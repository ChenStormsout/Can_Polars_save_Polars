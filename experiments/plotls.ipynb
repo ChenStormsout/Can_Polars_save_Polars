{
 "cells": [
  {
   "cell_type": "code",
   "execution_count": 19,
   "metadata": {},
   "outputs": [],
   "source": [
    "import plotly.graph_objects as go\n",
    "import pandas as pd\n",
    "import numpy as np"
   ]
  },
  {
   "cell_type": "code",
   "execution_count": 20,
   "metadata": {},
   "outputs": [
    {
     "data": {
      "text/plain": [
       "2.777777777777e-10"
      ]
     },
     "execution_count": 20,
     "metadata": {},
     "output_type": "execute_result"
    }
   ],
   "source": [
    "convertion_factor = 2.777777777777 * 10**-10\n",
    "convertion_factor"
   ]
  },
  {
   "cell_type": "code",
   "execution_count": 21,
   "metadata": {},
   "outputs": [],
   "source": [
    "cudf_df = pd.read_csv(\"./../data/cudf (1).csv\", index_col=0)\n",
    "polars_df = pd.read_csv(\"./../data/polars.csv\", index_col=0)\n",
    "pandas_df = pd.read_csv(\"./../data/pandas (1).csv\", index_col=0)"
   ]
  },
  {
   "cell_type": "code",
   "execution_count": 22,
   "metadata": {},
   "outputs": [
    {
     "data": {
      "text/html": [
       "<div>\n",
       "<style scoped>\n",
       "    .dataframe tbody tr th:only-of-type {\n",
       "        vertical-align: middle;\n",
       "    }\n",
       "\n",
       "    .dataframe tbody tr th {\n",
       "        vertical-align: top;\n",
       "    }\n",
       "\n",
       "    .dataframe thead th {\n",
       "        text-align: right;\n",
       "    }\n",
       "</style>\n",
       "<table border=\"1\" class=\"dataframe\">\n",
       "  <thead>\n",
       "    <tr style=\"text-align: right;\">\n",
       "      <th></th>\n",
       "      <th>secs_pandas_load</th>\n",
       "      <th>cpu_µJ_pandas_load</th>\n",
       "      <th>gpu_µJ_pandas_load</th>\n",
       "      <th>secs_pandas_drop_duplicates</th>\n",
       "      <th>cpu_µJ_pandas_drop_duplicates</th>\n",
       "      <th>gpu_µJ_pandas_drop_duplicates</th>\n",
       "      <th>secs_pandas_groupby</th>\n",
       "      <th>cpu_µJ_pandas_groupby</th>\n",
       "      <th>gpu_µJ_pandas_groupby</th>\n",
       "      <th>secs_pandas_sort</th>\n",
       "      <th>cpu_µJ_pandas_sort</th>\n",
       "      <th>gpu_µJ_pandas_sort</th>\n",
       "      <th>n</th>\n",
       "    </tr>\n",
       "  </thead>\n",
       "  <tbody>\n",
       "    <tr>\n",
       "      <th>count</th>\n",
       "      <td>30.000000</td>\n",
       "      <td>3.000000e+01</td>\n",
       "      <td>30.000000</td>\n",
       "      <td>30.000000</td>\n",
       "      <td>3.000000e+01</td>\n",
       "      <td>3.000000e+01</td>\n",
       "      <td>30.000000</td>\n",
       "      <td>30.000000</td>\n",
       "      <td>30.0</td>\n",
       "      <td>30.000000</td>\n",
       "      <td>3.000000e+01</td>\n",
       "      <td>30.000000</td>\n",
       "      <td>3.000000e+01</td>\n",
       "    </tr>\n",
       "    <tr>\n",
       "      <th>mean</th>\n",
       "      <td>8.417544</td>\n",
       "      <td>3.113122e+08</td>\n",
       "      <td>164892.200000</td>\n",
       "      <td>29.062912</td>\n",
       "      <td>9.731452e+08</td>\n",
       "      <td>5.710941e+05</td>\n",
       "      <td>0.000985</td>\n",
       "      <td>29712.400000</td>\n",
       "      <td>0.0</td>\n",
       "      <td>16.014248</td>\n",
       "      <td>-1.653314e+09</td>\n",
       "      <td>314220.033333</td>\n",
       "      <td>3.700000e+06</td>\n",
       "    </tr>\n",
       "    <tr>\n",
       "      <th>std</th>\n",
       "      <td>12.111117</td>\n",
       "      <td>4.478983e+08</td>\n",
       "      <td>237249.664023</td>\n",
       "      <td>36.351456</td>\n",
       "      <td>1.211541e+09</td>\n",
       "      <td>7.161320e+05</td>\n",
       "      <td>0.000111</td>\n",
       "      <td>10213.302616</td>\n",
       "      <td>0.0</td>\n",
       "      <td>21.082735</td>\n",
       "      <td>1.180242e+10</td>\n",
       "      <td>415240.019534</td>\n",
       "      <td>4.546313e+06</td>\n",
       "    </tr>\n",
       "    <tr>\n",
       "      <th>min</th>\n",
       "      <td>0.000000</td>\n",
       "      <td>0.000000e+00</td>\n",
       "      <td>0.000000</td>\n",
       "      <td>0.515250</td>\n",
       "      <td>1.700420e+07</td>\n",
       "      <td>8.516000e+03</td>\n",
       "      <td>0.000910</td>\n",
       "      <td>0.000000</td>\n",
       "      <td>0.0</td>\n",
       "      <td>0.178770</td>\n",
       "      <td>-6.404112e+10</td>\n",
       "      <td>1572.000000</td>\n",
       "      <td>1.000000e+05</td>\n",
       "    </tr>\n",
       "    <tr>\n",
       "      <th>25%</th>\n",
       "      <td>0.000000</td>\n",
       "      <td>0.000000e+00</td>\n",
       "      <td>0.000000</td>\n",
       "      <td>0.545949</td>\n",
       "      <td>1.883201e+07</td>\n",
       "      <td>1.007600e+04</td>\n",
       "      <td>0.000920</td>\n",
       "      <td>31080.000000</td>\n",
       "      <td>0.0</td>\n",
       "      <td>0.187055</td>\n",
       "      <td>6.487675e+06</td>\n",
       "      <td>3121.500000</td>\n",
       "      <td>1.000000e+05</td>\n",
       "    </tr>\n",
       "    <tr>\n",
       "      <th>50%</th>\n",
       "      <td>0.000000</td>\n",
       "      <td>0.000000e+00</td>\n",
       "      <td>0.000000</td>\n",
       "      <td>7.198354</td>\n",
       "      <td>2.495999e+08</td>\n",
       "      <td>1.395485e+05</td>\n",
       "      <td>0.000955</td>\n",
       "      <td>32576.000000</td>\n",
       "      <td>0.0</td>\n",
       "      <td>2.563941</td>\n",
       "      <td>8.702049e+07</td>\n",
       "      <td>49140.000000</td>\n",
       "      <td>1.000000e+06</td>\n",
       "    </tr>\n",
       "    <tr>\n",
       "      <th>75%</th>\n",
       "      <td>24.671050</td>\n",
       "      <td>9.188979e+08</td>\n",
       "      <td>482868.500000</td>\n",
       "      <td>79.091992</td>\n",
       "      <td>2.617162e+09</td>\n",
       "      <td>1.555231e+06</td>\n",
       "      <td>0.001010</td>\n",
       "      <td>34071.000000</td>\n",
       "      <td>0.0</td>\n",
       "      <td>45.178598</td>\n",
       "      <td>1.491014e+09</td>\n",
       "      <td>887544.250000</td>\n",
       "      <td>1.000000e+07</td>\n",
       "    </tr>\n",
       "    <tr>\n",
       "      <th>max</th>\n",
       "      <td>25.881633</td>\n",
       "      <td>9.543238e+08</td>\n",
       "      <td>507405.000000</td>\n",
       "      <td>80.740602</td>\n",
       "      <td>2.737014e+09</td>\n",
       "      <td>1.584348e+06</td>\n",
       "      <td>0.001493</td>\n",
       "      <td>35826.000000</td>\n",
       "      <td>0.0</td>\n",
       "      <td>45.716155</td>\n",
       "      <td>1.514288e+09</td>\n",
       "      <td>898245.000000</td>\n",
       "      <td>1.000000e+07</td>\n",
       "    </tr>\n",
       "  </tbody>\n",
       "</table>\n",
       "</div>"
      ],
      "text/plain": [
       "       secs_pandas_load  cpu_µJ_pandas_load  gpu_µJ_pandas_load  \\\n",
       "count         30.000000        3.000000e+01           30.000000   \n",
       "mean           8.417544        3.113122e+08       164892.200000   \n",
       "std           12.111117        4.478983e+08       237249.664023   \n",
       "min            0.000000        0.000000e+00            0.000000   \n",
       "25%            0.000000        0.000000e+00            0.000000   \n",
       "50%            0.000000        0.000000e+00            0.000000   \n",
       "75%           24.671050        9.188979e+08       482868.500000   \n",
       "max           25.881633        9.543238e+08       507405.000000   \n",
       "\n",
       "       secs_pandas_drop_duplicates  cpu_µJ_pandas_drop_duplicates  \\\n",
       "count                    30.000000                   3.000000e+01   \n",
       "mean                     29.062912                   9.731452e+08   \n",
       "std                      36.351456                   1.211541e+09   \n",
       "min                       0.515250                   1.700420e+07   \n",
       "25%                       0.545949                   1.883201e+07   \n",
       "50%                       7.198354                   2.495999e+08   \n",
       "75%                      79.091992                   2.617162e+09   \n",
       "max                      80.740602                   2.737014e+09   \n",
       "\n",
       "       gpu_µJ_pandas_drop_duplicates  secs_pandas_groupby  \\\n",
       "count                   3.000000e+01            30.000000   \n",
       "mean                    5.710941e+05             0.000985   \n",
       "std                     7.161320e+05             0.000111   \n",
       "min                     8.516000e+03             0.000910   \n",
       "25%                     1.007600e+04             0.000920   \n",
       "50%                     1.395485e+05             0.000955   \n",
       "75%                     1.555231e+06             0.001010   \n",
       "max                     1.584348e+06             0.001493   \n",
       "\n",
       "       cpu_µJ_pandas_groupby  gpu_µJ_pandas_groupby  secs_pandas_sort  \\\n",
       "count              30.000000                   30.0         30.000000   \n",
       "mean            29712.400000                    0.0         16.014248   \n",
       "std             10213.302616                    0.0         21.082735   \n",
       "min                 0.000000                    0.0          0.178770   \n",
       "25%             31080.000000                    0.0          0.187055   \n",
       "50%             32576.000000                    0.0          2.563941   \n",
       "75%             34071.000000                    0.0         45.178598   \n",
       "max             35826.000000                    0.0         45.716155   \n",
       "\n",
       "       cpu_µJ_pandas_sort  gpu_µJ_pandas_sort             n  \n",
       "count        3.000000e+01           30.000000  3.000000e+01  \n",
       "mean        -1.653314e+09       314220.033333  3.700000e+06  \n",
       "std          1.180242e+10       415240.019534  4.546313e+06  \n",
       "min         -6.404112e+10         1572.000000  1.000000e+05  \n",
       "25%          6.487675e+06         3121.500000  1.000000e+05  \n",
       "50%          8.702049e+07        49140.000000  1.000000e+06  \n",
       "75%          1.491014e+09       887544.250000  1.000000e+07  \n",
       "max          1.514288e+09       898245.000000  1.000000e+07  "
      ]
     },
     "execution_count": 22,
     "metadata": {},
     "output_type": "execute_result"
    }
   ],
   "source": [
    "pandas_df.describe()"
   ]
  },
  {
   "cell_type": "code",
   "execution_count": 23,
   "metadata": {},
   "outputs": [
    {
     "data": {
      "text/html": [
       "<div>\n",
       "<style scoped>\n",
       "    .dataframe tbody tr th:only-of-type {\n",
       "        vertical-align: middle;\n",
       "    }\n",
       "\n",
       "    .dataframe tbody tr th {\n",
       "        vertical-align: top;\n",
       "    }\n",
       "\n",
       "    .dataframe thead th {\n",
       "        text-align: right;\n",
       "    }\n",
       "</style>\n",
       "<table border=\"1\" class=\"dataframe\">\n",
       "  <thead>\n",
       "    <tr style=\"text-align: right;\">\n",
       "      <th></th>\n",
       "      <th>secs_cudf_load</th>\n",
       "      <th>cpu_µJ_cudf_load</th>\n",
       "      <th>gpu_µJ_cudf_load</th>\n",
       "      <th>secs_cudf_drop_duplicates</th>\n",
       "      <th>cpu_µJ_cudf_drop_duplicates</th>\n",
       "      <th>gpu_µJ_cudf_drop_duplicates</th>\n",
       "      <th>secs_cudf_groupby</th>\n",
       "      <th>cpu_µJ_cudf_groupby</th>\n",
       "      <th>gpu_µJ_cudf_groupby</th>\n",
       "      <th>secs_cudf_sort</th>\n",
       "      <th>cpu_µJ_cudf_sort</th>\n",
       "      <th>gpu_µJ_cudf_sort</th>\n",
       "      <th>n</th>\n",
       "    </tr>\n",
       "  </thead>\n",
       "  <tbody>\n",
       "    <tr>\n",
       "      <th>count</th>\n",
       "      <td>30.000000</td>\n",
       "      <td>3.000000e+01</td>\n",
       "      <td>30.000000</td>\n",
       "      <td>30.000000</td>\n",
       "      <td>3.000000e+01</td>\n",
       "      <td>30.000000</td>\n",
       "      <td>30.000000</td>\n",
       "      <td>30.000000</td>\n",
       "      <td>30.000000</td>\n",
       "      <td>30.000000</td>\n",
       "      <td>3.000000e+01</td>\n",
       "      <td>30.000000</td>\n",
       "      <td>3.000000e+01</td>\n",
       "    </tr>\n",
       "    <tr>\n",
       "      <th>mean</th>\n",
       "      <td>0.209539</td>\n",
       "      <td>7.489845e+06</td>\n",
       "      <td>26088.433333</td>\n",
       "      <td>0.139429</td>\n",
       "      <td>4.895269e+06</td>\n",
       "      <td>21149.633333</td>\n",
       "      <td>0.002360</td>\n",
       "      <td>79780.966667</td>\n",
       "      <td>499.566667</td>\n",
       "      <td>0.171388</td>\n",
       "      <td>6.026936e+06</td>\n",
       "      <td>29160.333333</td>\n",
       "      <td>3.700000e+06</td>\n",
       "    </tr>\n",
       "    <tr>\n",
       "      <th>std</th>\n",
       "      <td>0.304053</td>\n",
       "      <td>1.094815e+07</td>\n",
       "      <td>37541.693322</td>\n",
       "      <td>0.152491</td>\n",
       "      <td>5.354944e+06</td>\n",
       "      <td>27274.774005</td>\n",
       "      <td>0.004772</td>\n",
       "      <td>175579.685737</td>\n",
       "      <td>1926.782125</td>\n",
       "      <td>0.200323</td>\n",
       "      <td>7.044045e+06</td>\n",
       "      <td>39424.892607</td>\n",
       "      <td>4.546313e+06</td>\n",
       "    </tr>\n",
       "    <tr>\n",
       "      <th>min</th>\n",
       "      <td>0.000000</td>\n",
       "      <td>0.000000e+00</td>\n",
       "      <td>0.000000</td>\n",
       "      <td>0.010729</td>\n",
       "      <td>3.875230e+05</td>\n",
       "      <td>0.000000</td>\n",
       "      <td>0.000770</td>\n",
       "      <td>0.000000</td>\n",
       "      <td>0.000000</td>\n",
       "      <td>0.007588</td>\n",
       "      <td>2.674880e+05</td>\n",
       "      <td>0.000000</td>\n",
       "      <td>1.000000e+05</td>\n",
       "    </tr>\n",
       "    <tr>\n",
       "      <th>25%</th>\n",
       "      <td>0.000000</td>\n",
       "      <td>0.000000e+00</td>\n",
       "      <td>0.000000</td>\n",
       "      <td>0.012878</td>\n",
       "      <td>4.757220e+05</td>\n",
       "      <td>0.000000</td>\n",
       "      <td>0.000926</td>\n",
       "      <td>33415.000000</td>\n",
       "      <td>0.000000</td>\n",
       "      <td>0.009367</td>\n",
       "      <td>3.530900e+05</td>\n",
       "      <td>0.000000</td>\n",
       "      <td>1.000000e+05</td>\n",
       "    </tr>\n",
       "    <tr>\n",
       "      <th>50%</th>\n",
       "      <td>0.000000</td>\n",
       "      <td>0.000000e+00</td>\n",
       "      <td>0.000000</td>\n",
       "      <td>0.052138</td>\n",
       "      <td>1.794287e+06</td>\n",
       "      <td>5793.000000</td>\n",
       "      <td>0.001247</td>\n",
       "      <td>36420.500000</td>\n",
       "      <td>0.000000</td>\n",
       "      <td>0.048879</td>\n",
       "      <td>1.703998e+06</td>\n",
       "      <td>4784.500000</td>\n",
       "      <td>1.000000e+06</td>\n",
       "    </tr>\n",
       "    <tr>\n",
       "      <th>75%</th>\n",
       "      <td>0.598557</td>\n",
       "      <td>2.110373e+07</td>\n",
       "      <td>77149.000000</td>\n",
       "      <td>0.340337</td>\n",
       "      <td>1.209434e+07</td>\n",
       "      <td>49067.750000</td>\n",
       "      <td>0.001380</td>\n",
       "      <td>40647.750000</td>\n",
       "      <td>0.000000</td>\n",
       "      <td>0.443814</td>\n",
       "      <td>1.561953e+07</td>\n",
       "      <td>78023.250000</td>\n",
       "      <td>1.000000e+07</td>\n",
       "    </tr>\n",
       "    <tr>\n",
       "      <th>max</th>\n",
       "      <td>0.832220</td>\n",
       "      <td>3.238904e+07</td>\n",
       "      <td>83446.000000</td>\n",
       "      <td>0.374644</td>\n",
       "      <td>1.299913e+07</td>\n",
       "      <td>72650.000000</td>\n",
       "      <td>0.026897</td>\n",
       "      <td>983912.000000</td>\n",
       "      <td>8686.000000</td>\n",
       "      <td>0.457051</td>\n",
       "      <td>1.626324e+07</td>\n",
       "      <td>91353.000000</td>\n",
       "      <td>1.000000e+07</td>\n",
       "    </tr>\n",
       "  </tbody>\n",
       "</table>\n",
       "</div>"
      ],
      "text/plain": [
       "       secs_cudf_load  cpu_µJ_cudf_load  gpu_µJ_cudf_load  \\\n",
       "count       30.000000      3.000000e+01         30.000000   \n",
       "mean         0.209539      7.489845e+06      26088.433333   \n",
       "std          0.304053      1.094815e+07      37541.693322   \n",
       "min          0.000000      0.000000e+00          0.000000   \n",
       "25%          0.000000      0.000000e+00          0.000000   \n",
       "50%          0.000000      0.000000e+00          0.000000   \n",
       "75%          0.598557      2.110373e+07      77149.000000   \n",
       "max          0.832220      3.238904e+07      83446.000000   \n",
       "\n",
       "       secs_cudf_drop_duplicates  cpu_µJ_cudf_drop_duplicates  \\\n",
       "count                  30.000000                 3.000000e+01   \n",
       "mean                    0.139429                 4.895269e+06   \n",
       "std                     0.152491                 5.354944e+06   \n",
       "min                     0.010729                 3.875230e+05   \n",
       "25%                     0.012878                 4.757220e+05   \n",
       "50%                     0.052138                 1.794287e+06   \n",
       "75%                     0.340337                 1.209434e+07   \n",
       "max                     0.374644                 1.299913e+07   \n",
       "\n",
       "       gpu_µJ_cudf_drop_duplicates  secs_cudf_groupby  cpu_µJ_cudf_groupby  \\\n",
       "count                    30.000000          30.000000            30.000000   \n",
       "mean                  21149.633333           0.002360         79780.966667   \n",
       "std                   27274.774005           0.004772        175579.685737   \n",
       "min                       0.000000           0.000770             0.000000   \n",
       "25%                       0.000000           0.000926         33415.000000   \n",
       "50%                    5793.000000           0.001247         36420.500000   \n",
       "75%                   49067.750000           0.001380         40647.750000   \n",
       "max                   72650.000000           0.026897        983912.000000   \n",
       "\n",
       "       gpu_µJ_cudf_groupby  secs_cudf_sort  cpu_µJ_cudf_sort  \\\n",
       "count            30.000000       30.000000      3.000000e+01   \n",
       "mean            499.566667        0.171388      6.026936e+06   \n",
       "std            1926.782125        0.200323      7.044045e+06   \n",
       "min               0.000000        0.007588      2.674880e+05   \n",
       "25%               0.000000        0.009367      3.530900e+05   \n",
       "50%               0.000000        0.048879      1.703998e+06   \n",
       "75%               0.000000        0.443814      1.561953e+07   \n",
       "max            8686.000000        0.457051      1.626324e+07   \n",
       "\n",
       "       gpu_µJ_cudf_sort             n  \n",
       "count         30.000000  3.000000e+01  \n",
       "mean       29160.333333  3.700000e+06  \n",
       "std        39424.892607  4.546313e+06  \n",
       "min            0.000000  1.000000e+05  \n",
       "25%            0.000000  1.000000e+05  \n",
       "50%         4784.500000  1.000000e+06  \n",
       "75%        78023.250000  1.000000e+07  \n",
       "max        91353.000000  1.000000e+07  "
      ]
     },
     "execution_count": 23,
     "metadata": {},
     "output_type": "execute_result"
    }
   ],
   "source": [
    "cudf_df.describe()"
   ]
  },
  {
   "cell_type": "code",
   "execution_count": 24,
   "metadata": {},
   "outputs": [
    {
     "data": {
      "text/html": [
       "<div>\n",
       "<style scoped>\n",
       "    .dataframe tbody tr th:only-of-type {\n",
       "        vertical-align: middle;\n",
       "    }\n",
       "\n",
       "    .dataframe tbody tr th {\n",
       "        vertical-align: top;\n",
       "    }\n",
       "\n",
       "    .dataframe thead th {\n",
       "        text-align: right;\n",
       "    }\n",
       "</style>\n",
       "<table border=\"1\" class=\"dataframe\">\n",
       "  <thead>\n",
       "    <tr style=\"text-align: right;\">\n",
       "      <th></th>\n",
       "      <th>secs_polars_load</th>\n",
       "      <th>cpu_µJ_polars_load</th>\n",
       "      <th>gpu_µJ_polars_load</th>\n",
       "      <th>secs_polars_drop_duplicates</th>\n",
       "      <th>cpu_µJ_polars_drop_duplicates</th>\n",
       "      <th>gpu_µJ_polars_drop_duplicates</th>\n",
       "      <th>secs_polars_groupby</th>\n",
       "      <th>cpu_µJ_polars_groupby</th>\n",
       "      <th>gpu_µJ_polars_groupby</th>\n",
       "      <th>secs_polars_sort</th>\n",
       "      <th>cpu_µJ_polars_sort</th>\n",
       "      <th>gpu_µJ_polars_sort</th>\n",
       "      <th>n</th>\n",
       "    </tr>\n",
       "  </thead>\n",
       "  <tbody>\n",
       "    <tr>\n",
       "      <th>count</th>\n",
       "      <td>30.000000</td>\n",
       "      <td>3.000000e+01</td>\n",
       "      <td>30.000000</td>\n",
       "      <td>30.000000</td>\n",
       "      <td>3.000000e+01</td>\n",
       "      <td>30.000000</td>\n",
       "      <td>30.000000</td>\n",
       "      <td>30.000000</td>\n",
       "      <td>30.0</td>\n",
       "      <td>30.000000</td>\n",
       "      <td>3.000000e+01</td>\n",
       "      <td>30.000000</td>\n",
       "      <td>3.000000e+01</td>\n",
       "    </tr>\n",
       "    <tr>\n",
       "      <th>mean</th>\n",
       "      <td>1.095576</td>\n",
       "      <td>8.108616e+07</td>\n",
       "      <td>20768.033333</td>\n",
       "      <td>1.008283</td>\n",
       "      <td>7.722883e+07</td>\n",
       "      <td>18564.400000</td>\n",
       "      <td>0.001162</td>\n",
       "      <td>38815.300000</td>\n",
       "      <td>0.0</td>\n",
       "      <td>0.804764</td>\n",
       "      <td>5.628844e+07</td>\n",
       "      <td>14769.566667</td>\n",
       "      <td>3.700000e+06</td>\n",
       "    </tr>\n",
       "    <tr>\n",
       "      <th>std</th>\n",
       "      <td>1.575992</td>\n",
       "      <td>1.166415e+08</td>\n",
       "      <td>29877.468580</td>\n",
       "      <td>1.273788</td>\n",
       "      <td>9.682353e+07</td>\n",
       "      <td>24146.218978</td>\n",
       "      <td>0.000251</td>\n",
       "      <td>12836.020428</td>\n",
       "      <td>0.0</td>\n",
       "      <td>1.006649</td>\n",
       "      <td>6.987162e+07</td>\n",
       "      <td>19270.590136</td>\n",
       "      <td>4.546313e+06</td>\n",
       "    </tr>\n",
       "    <tr>\n",
       "      <th>min</th>\n",
       "      <td>0.000000</td>\n",
       "      <td>0.000000e+00</td>\n",
       "      <td>0.000000</td>\n",
       "      <td>0.014829</td>\n",
       "      <td>1.282007e+06</td>\n",
       "      <td>0.000000</td>\n",
       "      <td>0.000888</td>\n",
       "      <td>0.000000</td>\n",
       "      <td>0.0</td>\n",
       "      <td>0.010779</td>\n",
       "      <td>7.112970e+05</td>\n",
       "      <td>0.000000</td>\n",
       "      <td>1.000000e+05</td>\n",
       "    </tr>\n",
       "    <tr>\n",
       "      <th>25%</th>\n",
       "      <td>0.000000</td>\n",
       "      <td>0.000000e+00</td>\n",
       "      <td>0.000000</td>\n",
       "      <td>0.021180</td>\n",
       "      <td>1.502165e+06</td>\n",
       "      <td>0.000000</td>\n",
       "      <td>0.000929</td>\n",
       "      <td>31240.500000</td>\n",
       "      <td>0.0</td>\n",
       "      <td>0.014152</td>\n",
       "      <td>9.236350e+05</td>\n",
       "      <td>0.000000</td>\n",
       "      <td>1.000000e+05</td>\n",
       "    </tr>\n",
       "    <tr>\n",
       "      <th>50%</th>\n",
       "      <td>0.000000</td>\n",
       "      <td>0.000000e+00</td>\n",
       "      <td>0.000000</td>\n",
       "      <td>0.230816</td>\n",
       "      <td>1.883127e+07</td>\n",
       "      <td>3539.000000</td>\n",
       "      <td>0.001015</td>\n",
       "      <td>34086.000000</td>\n",
       "      <td>0.0</td>\n",
       "      <td>0.201733</td>\n",
       "      <td>1.484866e+07</td>\n",
       "      <td>2719.500000</td>\n",
       "      <td>1.000000e+06</td>\n",
       "    </tr>\n",
       "    <tr>\n",
       "      <th>75%</th>\n",
       "      <td>3.262675</td>\n",
       "      <td>2.409833e+08</td>\n",
       "      <td>61870.750000</td>\n",
       "      <td>2.762608</td>\n",
       "      <td>2.101945e+08</td>\n",
       "      <td>51623.750000</td>\n",
       "      <td>0.001407</td>\n",
       "      <td>46601.750000</td>\n",
       "      <td>0.0</td>\n",
       "      <td>2.189413</td>\n",
       "      <td>1.522328e+08</td>\n",
       "      <td>41153.500000</td>\n",
       "      <td>1.000000e+07</td>\n",
       "    </tr>\n",
       "    <tr>\n",
       "      <th>max</th>\n",
       "      <td>3.340800</td>\n",
       "      <td>2.470542e+08</td>\n",
       "      <td>63396.000000</td>\n",
       "      <td>2.824516</td>\n",
       "      <td>2.139860e+08</td>\n",
       "      <td>52951.000000</td>\n",
       "      <td>0.001544</td>\n",
       "      <td>66769.000000</td>\n",
       "      <td>0.0</td>\n",
       "      <td>2.225484</td>\n",
       "      <td>1.545429e+08</td>\n",
       "      <td>42419.000000</td>\n",
       "      <td>1.000000e+07</td>\n",
       "    </tr>\n",
       "  </tbody>\n",
       "</table>\n",
       "</div>"
      ],
      "text/plain": [
       "       secs_polars_load  cpu_µJ_polars_load  gpu_µJ_polars_load  \\\n",
       "count         30.000000        3.000000e+01           30.000000   \n",
       "mean           1.095576        8.108616e+07        20768.033333   \n",
       "std            1.575992        1.166415e+08        29877.468580   \n",
       "min            0.000000        0.000000e+00            0.000000   \n",
       "25%            0.000000        0.000000e+00            0.000000   \n",
       "50%            0.000000        0.000000e+00            0.000000   \n",
       "75%            3.262675        2.409833e+08        61870.750000   \n",
       "max            3.340800        2.470542e+08        63396.000000   \n",
       "\n",
       "       secs_polars_drop_duplicates  cpu_µJ_polars_drop_duplicates  \\\n",
       "count                    30.000000                   3.000000e+01   \n",
       "mean                      1.008283                   7.722883e+07   \n",
       "std                       1.273788                   9.682353e+07   \n",
       "min                       0.014829                   1.282007e+06   \n",
       "25%                       0.021180                   1.502165e+06   \n",
       "50%                       0.230816                   1.883127e+07   \n",
       "75%                       2.762608                   2.101945e+08   \n",
       "max                       2.824516                   2.139860e+08   \n",
       "\n",
       "       gpu_µJ_polars_drop_duplicates  secs_polars_groupby  \\\n",
       "count                      30.000000            30.000000   \n",
       "mean                    18564.400000             0.001162   \n",
       "std                     24146.218978             0.000251   \n",
       "min                         0.000000             0.000888   \n",
       "25%                         0.000000             0.000929   \n",
       "50%                      3539.000000             0.001015   \n",
       "75%                     51623.750000             0.001407   \n",
       "max                     52951.000000             0.001544   \n",
       "\n",
       "       cpu_µJ_polars_groupby  gpu_µJ_polars_groupby  secs_polars_sort  \\\n",
       "count              30.000000                   30.0         30.000000   \n",
       "mean            38815.300000                    0.0          0.804764   \n",
       "std             12836.020428                    0.0          1.006649   \n",
       "min                 0.000000                    0.0          0.010779   \n",
       "25%             31240.500000                    0.0          0.014152   \n",
       "50%             34086.000000                    0.0          0.201733   \n",
       "75%             46601.750000                    0.0          2.189413   \n",
       "max             66769.000000                    0.0          2.225484   \n",
       "\n",
       "       cpu_µJ_polars_sort  gpu_µJ_polars_sort             n  \n",
       "count        3.000000e+01           30.000000  3.000000e+01  \n",
       "mean         5.628844e+07        14769.566667  3.700000e+06  \n",
       "std          6.987162e+07        19270.590136  4.546313e+06  \n",
       "min          7.112970e+05            0.000000  1.000000e+05  \n",
       "25%          9.236350e+05            0.000000  1.000000e+05  \n",
       "50%          1.484866e+07         2719.500000  1.000000e+06  \n",
       "75%          1.522328e+08        41153.500000  1.000000e+07  \n",
       "max          1.545429e+08        42419.000000  1.000000e+07  "
      ]
     },
     "execution_count": 24,
     "metadata": {},
     "output_type": "execute_result"
    }
   ],
   "source": [
    "polars_df.describe()"
   ]
  },
  {
   "cell_type": "code",
   "execution_count": 25,
   "metadata": {},
   "outputs": [],
   "source": [
    "sample_sizes = pandas_df[\"n\"].unique()\n",
    "tests = [\"drop_duplicates\", \"groupby\", \"sort\"]  # \"load\","
   ]
  },
  {
   "cell_type": "code",
   "execution_count": 26,
   "metadata": {},
   "outputs": [
    {
     "name": "stderr",
     "output_type": "stream",
     "text": [
      "/tmp/ipykernel_2176/1897333533.py:4: SettingWithCopyWarning:\n",
      "\n",
      "\n",
      "A value is trying to be set on a copy of a slice from a DataFrame\n",
      "\n",
      "See the caveats in the documentation: https://pandas.pydata.org/pandas-docs/stable/user_guide/indexing.html#returning-a-view-versus-a-copy\n",
      "\n",
      "/tmp/ipykernel_2176/1897333533.py:10: SettingWithCopyWarning:\n",
      "\n",
      "\n",
      "A value is trying to be set on a copy of a slice from a DataFrame\n",
      "\n",
      "See the caveats in the documentation: https://pandas.pydata.org/pandas-docs/stable/user_guide/indexing.html#returning-a-view-versus-a-copy\n",
      "\n",
      "/tmp/ipykernel_2176/1897333533.py:18: SettingWithCopyWarning:\n",
      "\n",
      "\n",
      "A value is trying to be set on a copy of a slice from a DataFrame\n",
      "\n",
      "See the caveats in the documentation: https://pandas.pydata.org/pandas-docs/stable/user_guide/indexing.html#returning-a-view-versus-a-copy\n",
      "\n"
     ]
    },
    {
     "data": {
      "application/vnd.plotly.v1+json": {
       "config": {
        "plotlyServerURL": "https://plot.ly"
       },
       "data": [
        {
         "error_y": {
          "array": [
           0.028530924267567166,
           11.158232152741279,
           0.14680392270410686
          ],
          "type": "data",
          "visible": true
         },
         "name": "cudf",
         "type": "bar",
         "x": [
          "drop_duplicates",
          "groupby",
          "sort"
         ],
         "y": [
          0.03259478710022632,
          5.538006400922443,
          0.09721300581456076
         ]
        },
        {
         "error_y": {
          "array": [
           0.008686267491890607,
           0.5058222030470444,
           0.017781740591796144
          ],
          "type": "data",
          "visible": true
         },
         "name": "polars",
         "type": "bar",
         "x": [
          "drop_duplicates",
          "groupby",
          "sort"
         ],
         "y": [
          0.07649397284391546,
          1.4366116502701543,
          0.13631956867180486
         ]
        },
        {
         "error_y": {
          "array": [
           0.03893051104803551,
           0.530444308281134,
           0.03052845170320547
          ],
          "type": "data",
          "visible": true
         },
         "name": "pandas",
         "type": "bar",
         "x": [
          "drop_duplicates",
          "groupby",
          "sort"
         ],
         "y": [
          1,
          1,
          1
         ]
        }
       ],
       "layout": {
        "template": {
         "data": {
          "scatter": [
           {
            "type": "scatter"
           }
          ]
         }
        },
        "title": {
         "text": "Average energy consumption with 1E+05 rows"
        },
        "yaxis": {
         "title": {
          "text": "Consumption relative to pandas"
         }
        }
       }
      },
      "text/html": [
       "<div>                            <div id=\"ad33c121-7115-43f5-bb59-cee76721d6bd\" class=\"plotly-graph-div\" style=\"height:525px; width:100%;\"></div>            <script type=\"text/javascript\">                require([\"plotly\"], function(Plotly) {                    window.PLOTLYENV=window.PLOTLYENV || {};                                    if (document.getElementById(\"ad33c121-7115-43f5-bb59-cee76721d6bd\")) {                    Plotly.newPlot(                        \"ad33c121-7115-43f5-bb59-cee76721d6bd\",                        [{\"error_y\":{\"array\":[0.028530924267567166,11.158232152741279,0.14680392270410686],\"type\":\"data\",\"visible\":true},\"name\":\"cudf\",\"x\":[\"drop_duplicates\",\"groupby\",\"sort\"],\"y\":[0.03259478710022632,5.538006400922443,0.09721300581456076],\"type\":\"bar\"},{\"error_y\":{\"array\":[0.008686267491890607,0.5058222030470444,0.017781740591796144],\"type\":\"data\",\"visible\":true},\"name\":\"polars\",\"x\":[\"drop_duplicates\",\"groupby\",\"sort\"],\"y\":[0.07649397284391546,1.4366116502701543,0.13631956867180486],\"type\":\"bar\"},{\"error_y\":{\"array\":[0.03893051104803551,0.530444308281134,0.03052845170320547],\"type\":\"data\",\"visible\":true},\"name\":\"pandas\",\"x\":[\"drop_duplicates\",\"groupby\",\"sort\"],\"y\":[1.0,1.0,1.0],\"type\":\"bar\"}],                        {\"template\":{\"data\":{\"scatter\":[{\"type\":\"scatter\"}]}},\"title\":{\"text\":\"Average energy consumption with 1E+05 rows\"},\"yaxis\":{\"title\":{\"text\":\"Consumption relative to pandas\"}}},                        {\"responsive\": true}                    ).then(function(){\n",
       "                            \n",
       "var gd = document.getElementById('ad33c121-7115-43f5-bb59-cee76721d6bd');\n",
       "var x = new MutationObserver(function (mutations, observer) {{\n",
       "        var display = window.getComputedStyle(gd).display;\n",
       "        if (!display || display === 'none') {{\n",
       "            console.log([gd, 'removed!']);\n",
       "            Plotly.purge(gd);\n",
       "            observer.disconnect();\n",
       "        }}\n",
       "}});\n",
       "\n",
       "// Listen for the removal of the full notebook cells\n",
       "var notebookContainer = gd.closest('#notebook-container');\n",
       "if (notebookContainer) {{\n",
       "    x.observe(notebookContainer, {childList: true});\n",
       "}}\n",
       "\n",
       "// Listen for the clearing of the current output cell\n",
       "var outputEl = gd.closest('.output');\n",
       "if (outputEl) {{\n",
       "    x.observe(outputEl, {childList: true});\n",
       "}}\n",
       "\n",
       "                        })                };                });            </script>        </div>"
      ]
     },
     "metadata": {},
     "output_type": "display_data"
    },
    {
     "name": "stderr",
     "output_type": "stream",
     "text": [
      "/tmp/ipykernel_2176/1897333533.py:4: SettingWithCopyWarning:\n",
      "\n",
      "\n",
      "A value is trying to be set on a copy of a slice from a DataFrame\n",
      "\n",
      "See the caveats in the documentation: https://pandas.pydata.org/pandas-docs/stable/user_guide/indexing.html#returning-a-view-versus-a-copy\n",
      "\n",
      "/tmp/ipykernel_2176/1897333533.py:10: SettingWithCopyWarning:\n",
      "\n",
      "\n",
      "A value is trying to be set on a copy of a slice from a DataFrame\n",
      "\n",
      "See the caveats in the documentation: https://pandas.pydata.org/pandas-docs/stable/user_guide/indexing.html#returning-a-view-versus-a-copy\n",
      "\n",
      "/tmp/ipykernel_2176/1897333533.py:18: SettingWithCopyWarning:\n",
      "\n",
      "\n",
      "A value is trying to be set on a copy of a slice from a DataFrame\n",
      "\n",
      "See the caveats in the documentation: https://pandas.pydata.org/pandas-docs/stable/user_guide/indexing.html#returning-a-view-versus-a-copy\n",
      "\n"
     ]
    },
    {
     "data": {
      "application/vnd.plotly.v1+json": {
       "config": {
        "plotlyServerURL": "https://plot.ly"
       },
       "data": [
        {
         "error_y": {
          "array": [
           0.00008899684980600933,
           1.0928595468835398,
           0.000573735822276082
          ],
          "type": "data",
          "visible": true
         },
         "name": "cudf",
         "type": "bar",
         "x": [
          "drop_duplicates",
          "groupby",
          "sort"
         ],
         "y": [
          0.007223557582392637,
          1.8377296394537777,
          0.01948624492843068
         ]
        },
        {
         "error_y": {
          "array": [
           0.0006839567139877552,
           0.4583553251679083,
           0.00241284793753662
          ],
          "type": "data",
          "visible": true
         },
         "name": "polars",
         "type": "bar",
         "x": [
          "drop_duplicates",
          "groupby",
          "sort"
         ],
         "y": [
          0.07549193079904072,
          1.2975949258276847,
          0.1711909953442094
         ]
        },
        {
         "error_y": {
          "array": [
           0.013286585062112184,
           0.048247405034922426,
           0.00399258250258781
          ],
          "type": "data",
          "visible": true
         },
         "name": "pandas",
         "type": "bar",
         "x": [
          "drop_duplicates",
          "groupby",
          "sort"
         ],
         "y": [
          1,
          1,
          1
         ]
        }
       ],
       "layout": {
        "template": {
         "data": {
          "scatter": [
           {
            "type": "scatter"
           }
          ]
         }
        },
        "title": {
         "text": "Average energy consumption with 1E+06 rows"
        },
        "yaxis": {
         "title": {
          "text": "Consumption relative to pandas"
         }
        }
       }
      },
      "text/html": [
       "<div>                            <div id=\"61550f5e-14fe-4903-8d4b-5214d1bf6a6b\" class=\"plotly-graph-div\" style=\"height:525px; width:100%;\"></div>            <script type=\"text/javascript\">                require([\"plotly\"], function(Plotly) {                    window.PLOTLYENV=window.PLOTLYENV || {};                                    if (document.getElementById(\"61550f5e-14fe-4903-8d4b-5214d1bf6a6b\")) {                    Plotly.newPlot(                        \"61550f5e-14fe-4903-8d4b-5214d1bf6a6b\",                        [{\"error_y\":{\"array\":[8.899684980600933e-05,1.0928595468835398,0.000573735822276082],\"type\":\"data\",\"visible\":true},\"name\":\"cudf\",\"x\":[\"drop_duplicates\",\"groupby\",\"sort\"],\"y\":[0.007223557582392637,1.8377296394537777,0.01948624492843068],\"type\":\"bar\"},{\"error_y\":{\"array\":[0.0006839567139877552,0.4583553251679083,0.00241284793753662],\"type\":\"data\",\"visible\":true},\"name\":\"polars\",\"x\":[\"drop_duplicates\",\"groupby\",\"sort\"],\"y\":[0.07549193079904072,1.2975949258276847,0.1711909953442094],\"type\":\"bar\"},{\"error_y\":{\"array\":[0.013286585062112184,0.048247405034922426,0.00399258250258781],\"type\":\"data\",\"visible\":true},\"name\":\"pandas\",\"x\":[\"drop_duplicates\",\"groupby\",\"sort\"],\"y\":[1.0,1.0,1.0],\"type\":\"bar\"}],                        {\"template\":{\"data\":{\"scatter\":[{\"type\":\"scatter\"}]}},\"title\":{\"text\":\"Average energy consumption with 1E+06 rows\"},\"yaxis\":{\"title\":{\"text\":\"Consumption relative to pandas\"}}},                        {\"responsive\": true}                    ).then(function(){\n",
       "                            \n",
       "var gd = document.getElementById('61550f5e-14fe-4903-8d4b-5214d1bf6a6b');\n",
       "var x = new MutationObserver(function (mutations, observer) {{\n",
       "        var display = window.getComputedStyle(gd).display;\n",
       "        if (!display || display === 'none') {{\n",
       "            console.log([gd, 'removed!']);\n",
       "            Plotly.purge(gd);\n",
       "            observer.disconnect();\n",
       "        }}\n",
       "}});\n",
       "\n",
       "// Listen for the removal of the full notebook cells\n",
       "var notebookContainer = gd.closest('#notebook-container');\n",
       "if (notebookContainer) {{\n",
       "    x.observe(notebookContainer, {childList: true});\n",
       "}}\n",
       "\n",
       "// Listen for the clearing of the current output cell\n",
       "var outputEl = gd.closest('.output');\n",
       "if (outputEl) {{\n",
       "    x.observe(outputEl, {childList: true});\n",
       "}}\n",
       "\n",
       "                        })                };                });            </script>        </div>"
      ]
     },
     "metadata": {},
     "output_type": "display_data"
    },
    {
     "name": "stderr",
     "output_type": "stream",
     "text": [
      "/tmp/ipykernel_2176/1897333533.py:4: SettingWithCopyWarning:\n",
      "\n",
      "\n",
      "A value is trying to be set on a copy of a slice from a DataFrame\n",
      "\n",
      "See the caveats in the documentation: https://pandas.pydata.org/pandas-docs/stable/user_guide/indexing.html#returning-a-view-versus-a-copy\n",
      "\n",
      "/tmp/ipykernel_2176/1897333533.py:10: SettingWithCopyWarning:\n",
      "\n",
      "\n",
      "A value is trying to be set on a copy of a slice from a DataFrame\n",
      "\n",
      "See the caveats in the documentation: https://pandas.pydata.org/pandas-docs/stable/user_guide/indexing.html#returning-a-view-versus-a-copy\n",
      "\n",
      "/tmp/ipykernel_2176/1897333533.py:18: SettingWithCopyWarning:\n",
      "\n",
      "\n",
      "A value is trying to be set on a copy of a slice from a DataFrame\n",
      "\n",
      "See the caveats in the documentation: https://pandas.pydata.org/pandas-docs/stable/user_guide/indexing.html#returning-a-view-versus-a-copy\n",
      "\n"
     ]
    },
    {
     "data": {
      "application/vnd.plotly.v1+json": {
       "config": {
        "plotlyServerURL": "https://plot.ly"
       },
       "data": [
        {
         "error_y": {
          "array": [
           0.0001289502696641329,
           0.3820795660021512,
           0.00014228552812005482
          ],
          "type": "data",
          "visible": true
         },
         "name": "cudf",
         "type": "bar",
         "x": [
          "drop_duplicates",
          "groupby",
          "sort"
         ],
         "y": [
          0.004654322728279124,
          1.0550773068345884,
          0.010565457747370017
         ]
        },
        {
         "error_y": {
          "array": [
           0.0005586062453203001,
           0.32817102489417194,
           0.0005949403812514016
          ],
          "type": "data",
          "visible": true
         },
         "name": "polars",
         "type": "bar",
         "x": [
          "drop_duplicates",
          "groupby",
          "sort"
         ],
         "y": [
          0.0797127971272938,
          1.1966088023371677,
          0.1020352264877173
         ]
        },
        {
         "error_y": {
          "array": [
           0.017514816482987597,
           0.3565405790349121,
           0.00613543954513977
          ],
          "type": "data",
          "visible": true
         },
         "name": "pandas",
         "type": "bar",
         "x": [
          "drop_duplicates",
          "groupby",
          "sort"
         ],
         "y": [
          1,
          1,
          1
         ]
        }
       ],
       "layout": {
        "template": {
         "data": {
          "scatter": [
           {
            "type": "scatter"
           }
          ]
         }
        },
        "title": {
         "text": "Average energy consumption with 1E+07 rows"
        },
        "yaxis": {
         "title": {
          "text": "Consumption relative to pandas"
         }
        }
       }
      },
      "text/html": [
       "<div>                            <div id=\"4ab27f35-8d2e-4b0d-b414-a585124b5d79\" class=\"plotly-graph-div\" style=\"height:525px; width:100%;\"></div>            <script type=\"text/javascript\">                require([\"plotly\"], function(Plotly) {                    window.PLOTLYENV=window.PLOTLYENV || {};                                    if (document.getElementById(\"4ab27f35-8d2e-4b0d-b414-a585124b5d79\")) {                    Plotly.newPlot(                        \"4ab27f35-8d2e-4b0d-b414-a585124b5d79\",                        [{\"error_y\":{\"array\":[0.0001289502696641329,0.3820795660021512,0.00014228552812005482],\"type\":\"data\",\"visible\":true},\"name\":\"cudf\",\"x\":[\"drop_duplicates\",\"groupby\",\"sort\"],\"y\":[0.004654322728279124,1.0550773068345884,0.010565457747370017],\"type\":\"bar\"},{\"error_y\":{\"array\":[0.0005586062453203001,0.32817102489417194,0.0005949403812514016],\"type\":\"data\",\"visible\":true},\"name\":\"polars\",\"x\":[\"drop_duplicates\",\"groupby\",\"sort\"],\"y\":[0.0797127971272938,1.1966088023371677,0.1020352264877173],\"type\":\"bar\"},{\"error_y\":{\"array\":[0.017514816482987597,0.3565405790349121,0.00613543954513977],\"type\":\"data\",\"visible\":true},\"name\":\"pandas\",\"x\":[\"drop_duplicates\",\"groupby\",\"sort\"],\"y\":[1.0,1.0,1.0],\"type\":\"bar\"}],                        {\"template\":{\"data\":{\"scatter\":[{\"type\":\"scatter\"}]}},\"title\":{\"text\":\"Average energy consumption with 1E+07 rows\"},\"yaxis\":{\"title\":{\"text\":\"Consumption relative to pandas\"}}},                        {\"responsive\": true}                    ).then(function(){\n",
       "                            \n",
       "var gd = document.getElementById('4ab27f35-8d2e-4b0d-b414-a585124b5d79');\n",
       "var x = new MutationObserver(function (mutations, observer) {{\n",
       "        var display = window.getComputedStyle(gd).display;\n",
       "        if (!display || display === 'none') {{\n",
       "            console.log([gd, 'removed!']);\n",
       "            Plotly.purge(gd);\n",
       "            observer.disconnect();\n",
       "        }}\n",
       "}});\n",
       "\n",
       "// Listen for the removal of the full notebook cells\n",
       "var notebookContainer = gd.closest('#notebook-container');\n",
       "if (notebookContainer) {{\n",
       "    x.observe(notebookContainer, {childList: true});\n",
       "}}\n",
       "\n",
       "// Listen for the clearing of the current output cell\n",
       "var outputEl = gd.closest('.output');\n",
       "if (outputEl) {{\n",
       "    x.observe(outputEl, {childList: true});\n",
       "}}\n",
       "\n",
       "                        })                };                });            </script>        </div>"
      ]
     },
     "metadata": {},
     "output_type": "display_data"
    }
   ],
   "source": [
    "for sample_size in sample_sizes:\n",
    "    fig = go.Figure()\n",
    "    cudf_tdf = cudf_df[cudf_df[\"n\"] == sample_size]\n",
    "    cudf_tdf.drop(\n",
    "        columns=[c for c in cudf_tdf.columns if \"sec\" in c or \"load\" in c or c == \"n\"],\n",
    "        inplace=True,\n",
    "    )\n",
    "    cudf_tdf = cudf_tdf.map(lambda x: x if x >= 0 else x + 65532610987)\n",
    "    polars_tdf = polars_df[polars_df[\"n\"] == sample_size]\n",
    "    polars_tdf.drop(\n",
    "        columns=[\n",
    "            c for c in polars_tdf.columns if \"sec\" in c or \"load\" in c or c == \"n\"\n",
    "        ],\n",
    "        inplace=True,\n",
    "    )\n",
    "    polars_tdf = polars_tdf.map(lambda x: x if x >= 0 else x + 65532610987)\n",
    "    pandas_tdf = pandas_df[pandas_df[\"n\"] == sample_size]\n",
    "    pandas_tdf.drop(\n",
    "        columns=[\n",
    "            c for c in pandas_tdf.columns if \"sec\" in c or \"load\" in c or c == \"n\"\n",
    "        ],\n",
    "        inplace=True,\n",
    "    )\n",
    "    pandas_tdf = pandas_tdf.map(lambda x: x if x >= 0 else x + 65532610987)\n",
    "    y_cudf = [\n",
    "        cudf_tdf.loc[:, [test in c for c in cudf_tdf.columns]].mean().sum()\n",
    "        * convertion_factor\n",
    "        for test in tests\n",
    "    ]\n",
    "    y_polars = [\n",
    "        polars_tdf.loc[:, [test in c for c in polars_tdf.columns]].mean().sum()\n",
    "        * convertion_factor\n",
    "        for test in tests\n",
    "    ]\n",
    "    y_pandas = [\n",
    "        pandas_tdf.loc[:, [test in c for c in pandas_tdf.columns]].mean().sum()\n",
    "        * convertion_factor\n",
    "        for test in tests\n",
    "    ]\n",
    "    std_cudf = [\n",
    "        cudf_tdf.loc[:, [test in c for c in cudf_tdf.columns]].sum(axis=1).std()\n",
    "        * convertion_factor\n",
    "        for test in tests\n",
    "    ]\n",
    "    std_pandas = [\n",
    "        pandas_tdf.loc[:, [test in c for c in cudf_tdf.columns]].sum(axis=1).std()\n",
    "        * convertion_factor\n",
    "        for test in tests\n",
    "    ]\n",
    "    std_polars = [\n",
    "        polars_tdf.loc[:, [test in c for c in cudf_tdf.columns]].sum(axis=1).std()\n",
    "        * convertion_factor\n",
    "        for test in tests\n",
    "    ]\n",
    "    for idx, val in enumerate(y_pandas):\n",
    "        y_cudf[idx] = y_cudf[idx] / val\n",
    "        y_polars[idx] = y_polars[idx] / val\n",
    "        y_pandas[idx] = y_pandas[idx] / val\n",
    "        std_cudf[idx] = std_cudf[idx] / val\n",
    "        std_pandas[idx] = std_pandas[idx] / val\n",
    "        std_polars[idx] = std_polars[idx] / val\n",
    "    fig.add_trace(\n",
    "        go.Bar(\n",
    "            x=tests,\n",
    "            y=y_cudf,\n",
    "            error_y=dict(\n",
    "                type=\"data\",  # value of error bar given in data coordinates\n",
    "                array=std_cudf,\n",
    "                visible=True,\n",
    "            ),\n",
    "            name=\"cudf\",\n",
    "        )\n",
    "    )\n",
    "    fig.add_trace(\n",
    "        go.Bar(\n",
    "            x=tests,\n",
    "            y=y_polars,\n",
    "            error_y=dict(\n",
    "                type=\"data\",  # value of error bar given in data coordinates\n",
    "                array=std_polars,\n",
    "                visible=True,\n",
    "            ),\n",
    "            name=\"polars\",\n",
    "        )\n",
    "    )\n",
    "    fig.add_trace(\n",
    "        go.Bar(\n",
    "            x=tests,\n",
    "            y=y_pandas,\n",
    "            error_y=dict(\n",
    "                type=\"data\",  # value of error bar given in data coordinates\n",
    "                array=std_pandas,\n",
    "                visible=True,\n",
    "            ),\n",
    "            name=\"pandas\",\n",
    "        )\n",
    "    )\n",
    "    fig.update_layout(\n",
    "        template=\"none\", title=f\"Average energy consumption with {'{:.0E}'.format(sample_size)} rows\"\n",
    "    )\n",
    "    fig.update_yaxes(\n",
    "        title=\"Consumption relative to pandas\"\n",
    "    )  # ,type=\"log\") # type=\"log\"\n",
    "    fig.show()\n",
    "    fig.write_image(f\"./../figs/relative_energy_consumption_{sample_size}.svg\")"
   ]
  },
  {
   "cell_type": "code",
   "execution_count": 27,
   "metadata": {},
   "outputs": [
    {
     "data": {
      "text/plain": [
       "[9.505169786855309e-05, 3.1315453495953105e-06, 5.931975577846027e-05]"
      ]
     },
     "execution_count": 27,
     "metadata": {},
     "output_type": "execute_result"
    }
   ],
   "source": [
    "std_cudf = [\n",
    "        cudf_tdf.loc[:, [test in c for c in cudf_tdf.columns]].sum(axis=1).std()\n",
    "        * convertion_factor\n",
    "        for test in tests\n",
    "    ]\n",
    "std_cudf"
   ]
  },
  {
   "cell_type": "code",
   "execution_count": 28,
   "metadata": {},
   "outputs": [
    {
     "name": "stderr",
     "output_type": "stream",
     "text": [
      "/tmp/ipykernel_2176/443043102.py:4: SettingWithCopyWarning:\n",
      "\n",
      "\n",
      "A value is trying to be set on a copy of a slice from a DataFrame\n",
      "\n",
      "See the caveats in the documentation: https://pandas.pydata.org/pandas-docs/stable/user_guide/indexing.html#returning-a-view-versus-a-copy\n",
      "\n",
      "/tmp/ipykernel_2176/443043102.py:10: SettingWithCopyWarning:\n",
      "\n",
      "\n",
      "A value is trying to be set on a copy of a slice from a DataFrame\n",
      "\n",
      "See the caveats in the documentation: https://pandas.pydata.org/pandas-docs/stable/user_guide/indexing.html#returning-a-view-versus-a-copy\n",
      "\n",
      "/tmp/ipykernel_2176/443043102.py:18: SettingWithCopyWarning:\n",
      "\n",
      "\n",
      "A value is trying to be set on a copy of a slice from a DataFrame\n",
      "\n",
      "See the caveats in the documentation: https://pandas.pydata.org/pandas-docs/stable/user_guide/indexing.html#returning-a-view-versus-a-copy\n",
      "\n"
     ]
    },
    {
     "data": {
      "application/vnd.plotly.v1+json": {
       "config": {
        "plotlyServerURL": "https://plot.ly"
       },
       "data": [
        {
         "error_y": {
          "array": [
           0.026378178021576375,
           8.189765135912737,
           0.13576735554205818
          ],
          "type": "data",
          "visible": true
         },
         "name": "cudf",
         "type": "bar",
         "x": [
          "drop_duplicates",
          "groupby",
          "sort"
         ],
         "y": [
          0.030365515523573628,
          4.337667967057005,
          0.09048364097231393
         ]
        },
        {
         "error_y": {
          "array": [
           0.006111373418131068,
           0.269022465342952,
           0.014618531374342172
          ],
          "type": "data",
          "visible": true
         },
         "name": "polars",
         "type": "bar",
         "x": [
          "drop_duplicates",
          "groupby",
          "sort"
         ],
         "y": [
          0.034974331379369325,
          1.203896354091452,
          0.06941771485386689
         ]
        },
        {
         "error_y": {
          "array": [
           0.02380459753595826,
           0.18048065940309246,
           0.022363454083913936
          ],
          "type": "data",
          "visible": true
         },
         "name": "pandas",
         "type": "bar",
         "x": [
          "drop_duplicates",
          "groupby",
          "sort"
         ],
         "y": [
          1,
          1,
          1
         ]
        }
       ],
       "layout": {
        "template": {
         "data": {
          "scatter": [
           {
            "type": "scatter"
           }
          ]
         }
        },
        "title": {
         "text": "Average compute time with 1E+05 rows"
        },
        "yaxis": {
         "title": {
          "text": "Compute time relative to pandas"
         }
        }
       }
      },
      "text/html": [
       "<div>                            <div id=\"076826bb-381f-4696-a767-6b10fe7363cb\" class=\"plotly-graph-div\" style=\"height:525px; width:100%;\"></div>            <script type=\"text/javascript\">                require([\"plotly\"], function(Plotly) {                    window.PLOTLYENV=window.PLOTLYENV || {};                                    if (document.getElementById(\"076826bb-381f-4696-a767-6b10fe7363cb\")) {                    Plotly.newPlot(                        \"076826bb-381f-4696-a767-6b10fe7363cb\",                        [{\"error_y\":{\"array\":[0.026378178021576375,8.189765135912737,0.13576735554205818],\"type\":\"data\",\"visible\":true},\"name\":\"cudf\",\"x\":[\"drop_duplicates\",\"groupby\",\"sort\"],\"y\":[0.030365515523573628,4.337667967057005,0.09048364097231393],\"type\":\"bar\"},{\"error_y\":{\"array\":[0.006111373418131068,0.269022465342952,0.014618531374342172],\"type\":\"data\",\"visible\":true},\"name\":\"polars\",\"x\":[\"drop_duplicates\",\"groupby\",\"sort\"],\"y\":[0.034974331379369325,1.203896354091452,0.06941771485386689],\"type\":\"bar\"},{\"error_y\":{\"array\":[0.02380459753595826,0.18048065940309246,0.022363454083913936],\"type\":\"data\",\"visible\":true},\"name\":\"pandas\",\"x\":[\"drop_duplicates\",\"groupby\",\"sort\"],\"y\":[1.0,1.0,1.0],\"type\":\"bar\"}],                        {\"template\":{\"data\":{\"scatter\":[{\"type\":\"scatter\"}]}},\"title\":{\"text\":\"Average compute time with 1E+05 rows\"},\"yaxis\":{\"title\":{\"text\":\"Compute time relative to pandas\"}}},                        {\"responsive\": true}                    ).then(function(){\n",
       "                            \n",
       "var gd = document.getElementById('076826bb-381f-4696-a767-6b10fe7363cb');\n",
       "var x = new MutationObserver(function (mutations, observer) {{\n",
       "        var display = window.getComputedStyle(gd).display;\n",
       "        if (!display || display === 'none') {{\n",
       "            console.log([gd, 'removed!']);\n",
       "            Plotly.purge(gd);\n",
       "            observer.disconnect();\n",
       "        }}\n",
       "}});\n",
       "\n",
       "// Listen for the removal of the full notebook cells\n",
       "var notebookContainer = gd.closest('#notebook-container');\n",
       "if (notebookContainer) {{\n",
       "    x.observe(notebookContainer, {childList: true});\n",
       "}}\n",
       "\n",
       "// Listen for the clearing of the current output cell\n",
       "var outputEl = gd.closest('.output');\n",
       "if (outputEl) {{\n",
       "    x.observe(outputEl, {childList: true});\n",
       "}}\n",
       "\n",
       "                        })                };                });            </script>        </div>"
      ]
     },
     "metadata": {},
     "output_type": "display_data"
    },
    {
     "name": "stderr",
     "output_type": "stream",
     "text": [
      "/tmp/ipykernel_2176/443043102.py:4: SettingWithCopyWarning:\n",
      "\n",
      "\n",
      "A value is trying to be set on a copy of a slice from a DataFrame\n",
      "\n",
      "See the caveats in the documentation: https://pandas.pydata.org/pandas-docs/stable/user_guide/indexing.html#returning-a-view-versus-a-copy\n",
      "\n",
      "/tmp/ipykernel_2176/443043102.py:10: SettingWithCopyWarning:\n",
      "\n",
      "\n",
      "A value is trying to be set on a copy of a slice from a DataFrame\n",
      "\n",
      "See the caveats in the documentation: https://pandas.pydata.org/pandas-docs/stable/user_guide/indexing.html#returning-a-view-versus-a-copy\n",
      "\n",
      "/tmp/ipykernel_2176/443043102.py:18: SettingWithCopyWarning:\n",
      "\n",
      "\n",
      "A value is trying to be set on a copy of a slice from a DataFrame\n",
      "\n",
      "See the caveats in the documentation: https://pandas.pydata.org/pandas-docs/stable/user_guide/indexing.html#returning-a-view-versus-a-copy\n",
      "\n"
     ]
    },
    {
     "data": {
      "application/vnd.plotly.v1+json": {
       "config": {
        "plotlyServerURL": "https://plot.ly"
       },
       "data": [
        {
         "error_y": {
          "array": [
           0.00004504471488152321,
           1.0200790971070632,
           0.0004675625058088711
          ],
          "type": "data",
          "visible": true
         },
         "name": "cudf",
         "type": "bar",
         "x": [
          "drop_duplicates",
          "groupby",
          "sort"
         ],
         "y": [
          0.007238196965214165,
          1.8846707359436785,
          0.01908607024800259
         ]
        },
        {
         "error_y": {
          "array": [
           0.0004933137406872681,
           0.0444554581862839,
           0.0010860925909576505
          ],
          "type": "data",
          "visible": true
         },
         "name": "polars",
         "type": "bar",
         "x": [
          "drop_duplicates",
          "groupby",
          "sort"
         ],
         "y": [
          0.03212218411684424,
          0.9778422907051744,
          0.0785616591807695
         ]
        },
        {
         "error_y": {
          "array": [
           0.013945251406057063,
           0.06272636321509324,
           0.005007128672011489
          ],
          "type": "data",
          "visible": true
         },
         "name": "pandas",
         "type": "bar",
         "x": [
          "drop_duplicates",
          "groupby",
          "sort"
         ],
         "y": [
          1,
          1,
          1
         ]
        }
       ],
       "layout": {
        "template": {
         "data": {
          "scatter": [
           {
            "type": "scatter"
           }
          ]
         }
        },
        "title": {
         "text": "Average compute time with 1E+06 rows"
        },
        "yaxis": {
         "title": {
          "text": "Compute time relative to pandas"
         }
        }
       }
      },
      "text/html": [
       "<div>                            <div id=\"1a3500c2-4214-48d0-8893-8bc5bb30e121\" class=\"plotly-graph-div\" style=\"height:525px; width:100%;\"></div>            <script type=\"text/javascript\">                require([\"plotly\"], function(Plotly) {                    window.PLOTLYENV=window.PLOTLYENV || {};                                    if (document.getElementById(\"1a3500c2-4214-48d0-8893-8bc5bb30e121\")) {                    Plotly.newPlot(                        \"1a3500c2-4214-48d0-8893-8bc5bb30e121\",                        [{\"error_y\":{\"array\":[4.504471488152321e-05,1.0200790971070632,0.0004675625058088711],\"type\":\"data\",\"visible\":true},\"name\":\"cudf\",\"x\":[\"drop_duplicates\",\"groupby\",\"sort\"],\"y\":[0.007238196965214165,1.8846707359436785,0.01908607024800259],\"type\":\"bar\"},{\"error_y\":{\"array\":[0.0004933137406872681,0.0444554581862839,0.0010860925909576505],\"type\":\"data\",\"visible\":true},\"name\":\"polars\",\"x\":[\"drop_duplicates\",\"groupby\",\"sort\"],\"y\":[0.03212218411684424,0.9778422907051744,0.0785616591807695],\"type\":\"bar\"},{\"error_y\":{\"array\":[0.013945251406057063,0.06272636321509324,0.005007128672011489],\"type\":\"data\",\"visible\":true},\"name\":\"pandas\",\"x\":[\"drop_duplicates\",\"groupby\",\"sort\"],\"y\":[1.0,1.0,1.0],\"type\":\"bar\"}],                        {\"template\":{\"data\":{\"scatter\":[{\"type\":\"scatter\"}]}},\"title\":{\"text\":\"Average compute time with 1E+06 rows\"},\"yaxis\":{\"title\":{\"text\":\"Compute time relative to pandas\"}}},                        {\"responsive\": true}                    ).then(function(){\n",
       "                            \n",
       "var gd = document.getElementById('1a3500c2-4214-48d0-8893-8bc5bb30e121');\n",
       "var x = new MutationObserver(function (mutations, observer) {{\n",
       "        var display = window.getComputedStyle(gd).display;\n",
       "        if (!display || display === 'none') {{\n",
       "            console.log([gd, 'removed!']);\n",
       "            Plotly.purge(gd);\n",
       "            observer.disconnect();\n",
       "        }}\n",
       "}});\n",
       "\n",
       "// Listen for the removal of the full notebook cells\n",
       "var notebookContainer = gd.closest('#notebook-container');\n",
       "if (notebookContainer) {{\n",
       "    x.observe(notebookContainer, {childList: true});\n",
       "}}\n",
       "\n",
       "// Listen for the clearing of the current output cell\n",
       "var outputEl = gd.closest('.output');\n",
       "if (outputEl) {{\n",
       "    x.observe(outputEl, {childList: true});\n",
       "}}\n",
       "\n",
       "                        })                };                });            </script>        </div>"
      ]
     },
     "metadata": {},
     "output_type": "display_data"
    },
    {
     "name": "stderr",
     "output_type": "stream",
     "text": [
      "/tmp/ipykernel_2176/443043102.py:4: SettingWithCopyWarning:\n",
      "\n",
      "\n",
      "A value is trying to be set on a copy of a slice from a DataFrame\n",
      "\n",
      "See the caveats in the documentation: https://pandas.pydata.org/pandas-docs/stable/user_guide/indexing.html#returning-a-view-versus-a-copy\n",
      "\n",
      "/tmp/ipykernel_2176/443043102.py:10: SettingWithCopyWarning:\n",
      "\n",
      "\n",
      "A value is trying to be set on a copy of a slice from a DataFrame\n",
      "\n",
      "See the caveats in the documentation: https://pandas.pydata.org/pandas-docs/stable/user_guide/indexing.html#returning-a-view-versus-a-copy\n",
      "\n",
      "/tmp/ipykernel_2176/443043102.py:18: SettingWithCopyWarning:\n",
      "\n",
      "\n",
      "A value is trying to be set on a copy of a slice from a DataFrame\n",
      "\n",
      "See the caveats in the documentation: https://pandas.pydata.org/pandas-docs/stable/user_guide/indexing.html#returning-a-view-versus-a-copy\n",
      "\n"
     ]
    },
    {
     "data": {
      "application/vnd.plotly.v1+json": {
       "config": {
        "plotlyServerURL": "https://plot.ly"
       },
       "data": [
        {
         "error_y": {
          "array": [
           0.00014690116063241629,
           0.21516593356113228,
           0.00011492678445387209
          ],
          "type": "data",
          "visible": true
         },
         "name": "cudf",
         "type": "bar",
         "x": [
          "drop_duplicates",
          "groupby",
          "sort"
         ],
         "y": [
          0.0044044023140189775,
          0.9699719675013024,
          0.009903716313964415
         ]
        },
        {
         "error_y": {
          "array": [
           0.00033635016082139425,
           0.18205928958964596,
           0.00030841732164463504
          ],
          "type": "data",
          "visible": true
         },
         "name": "polars",
         "type": "bar",
         "x": [
          "drop_duplicates",
          "groupby",
          "sort"
         ],
         "y": [
          0.03492399029871824,
          1.348648263410489,
          0.04857335796849753
         ]
        },
        {
         "error_y": {
          "array": [
           0.006719200276371186,
           0.053737016979209504,
           0.005579479275158022
          ],
          "type": "data",
          "visible": true
         },
         "name": "pandas",
         "type": "bar",
         "x": [
          "drop_duplicates",
          "groupby",
          "sort"
         ],
         "y": [
          1,
          1,
          1
         ]
        }
       ],
       "layout": {
        "template": {
         "data": {
          "scatter": [
           {
            "type": "scatter"
           }
          ]
         }
        },
        "title": {
         "text": "Average compute time with 1E+07 rows"
        },
        "yaxis": {
         "title": {
          "text": "Compute time relative to pandas"
         }
        }
       }
      },
      "text/html": [
       "<div>                            <div id=\"255514f3-3a68-41a4-ba05-f7762769cbc3\" class=\"plotly-graph-div\" style=\"height:525px; width:100%;\"></div>            <script type=\"text/javascript\">                require([\"plotly\"], function(Plotly) {                    window.PLOTLYENV=window.PLOTLYENV || {};                                    if (document.getElementById(\"255514f3-3a68-41a4-ba05-f7762769cbc3\")) {                    Plotly.newPlot(                        \"255514f3-3a68-41a4-ba05-f7762769cbc3\",                        [{\"error_y\":{\"array\":[0.00014690116063241629,0.21516593356113228,0.00011492678445387209],\"type\":\"data\",\"visible\":true},\"name\":\"cudf\",\"x\":[\"drop_duplicates\",\"groupby\",\"sort\"],\"y\":[0.0044044023140189775,0.9699719675013024,0.009903716313964415],\"type\":\"bar\"},{\"error_y\":{\"array\":[0.00033635016082139425,0.18205928958964596,0.00030841732164463504],\"type\":\"data\",\"visible\":true},\"name\":\"polars\",\"x\":[\"drop_duplicates\",\"groupby\",\"sort\"],\"y\":[0.03492399029871824,1.348648263410489,0.04857335796849753],\"type\":\"bar\"},{\"error_y\":{\"array\":[0.006719200276371186,0.053737016979209504,0.005579479275158022],\"type\":\"data\",\"visible\":true},\"name\":\"pandas\",\"x\":[\"drop_duplicates\",\"groupby\",\"sort\"],\"y\":[1.0,1.0,1.0],\"type\":\"bar\"}],                        {\"template\":{\"data\":{\"scatter\":[{\"type\":\"scatter\"}]}},\"title\":{\"text\":\"Average compute time with 1E+07 rows\"},\"yaxis\":{\"title\":{\"text\":\"Compute time relative to pandas\"}}},                        {\"responsive\": true}                    ).then(function(){\n",
       "                            \n",
       "var gd = document.getElementById('255514f3-3a68-41a4-ba05-f7762769cbc3');\n",
       "var x = new MutationObserver(function (mutations, observer) {{\n",
       "        var display = window.getComputedStyle(gd).display;\n",
       "        if (!display || display === 'none') {{\n",
       "            console.log([gd, 'removed!']);\n",
       "            Plotly.purge(gd);\n",
       "            observer.disconnect();\n",
       "        }}\n",
       "}});\n",
       "\n",
       "// Listen for the removal of the full notebook cells\n",
       "var notebookContainer = gd.closest('#notebook-container');\n",
       "if (notebookContainer) {{\n",
       "    x.observe(notebookContainer, {childList: true});\n",
       "}}\n",
       "\n",
       "// Listen for the clearing of the current output cell\n",
       "var outputEl = gd.closest('.output');\n",
       "if (outputEl) {{\n",
       "    x.observe(outputEl, {childList: true});\n",
       "}}\n",
       "\n",
       "                        })                };                });            </script>        </div>"
      ]
     },
     "metadata": {},
     "output_type": "display_data"
    }
   ],
   "source": [
    "for sample_size in sample_sizes:\n",
    "    fig = go.Figure()\n",
    "    cudf_tdf = cudf_df[cudf_df[\"n\"] == sample_size]\n",
    "    cudf_tdf.drop(\n",
    "        columns=[c for c in cudf_tdf.columns if \"µJ_\" in c or \"load\" in c or c == \"n\"],\n",
    "        inplace=True,\n",
    "    )\n",
    "    # cudf_tdf=cudf_tdf.map(lambda x: x if x>=0 else x+65532610987)\n",
    "    polars_tdf = polars_df[polars_df[\"n\"] == sample_size]\n",
    "    polars_tdf.drop(\n",
    "        columns=[\n",
    "            c for c in polars_tdf.columns if \"µJ_\" in c or \"load\" in c or c == \"n\"\n",
    "        ],\n",
    "        inplace=True,\n",
    "    )\n",
    "    # polars_tdf=polars_tdf.map(lambda x: x if x>=0 else x+65532610987)\n",
    "    pandas_tdf = pandas_df[pandas_df[\"n\"] == sample_size]\n",
    "    pandas_tdf.drop(\n",
    "        columns=[\n",
    "            c for c in pandas_tdf.columns if \"µJ_\" in c or \"load\" in c or c == \"n\"\n",
    "        ],\n",
    "        inplace=True,\n",
    "    )\n",
    "    # pandas_tdf=pandas_tdf.map(lambda x: x if x>=0 else x+65532610987)\n",
    "    y_cudf = [\n",
    "        cudf_tdf.loc[:, [test in c for c in cudf_tdf.columns]].mean().sum()\n",
    "        * convertion_factor\n",
    "        for test in tests\n",
    "    ]\n",
    "    y_polars = [\n",
    "        polars_tdf.loc[:, [test in c for c in polars_tdf.columns]].mean().sum()\n",
    "        * convertion_factor\n",
    "        for test in tests\n",
    "    ]\n",
    "    y_pandas = [\n",
    "        pandas_tdf.loc[:, [test in c for c in pandas_tdf.columns]].mean().sum()\n",
    "        * convertion_factor\n",
    "        for test in tests\n",
    "    ]\n",
    "    std_cudf = [\n",
    "        cudf_tdf.loc[:, [test in c for c in cudf_tdf.columns]].sum(axis=1).std()\n",
    "        * convertion_factor\n",
    "        for test in tests\n",
    "    ]\n",
    "    std_pandas = [\n",
    "        pandas_tdf.loc[:, [test in c for c in cudf_tdf.columns]].sum(axis=1).std()\n",
    "        * convertion_factor\n",
    "        for test in tests\n",
    "    ]\n",
    "    std_polars = [\n",
    "        polars_tdf.loc[:, [test in c for c in cudf_tdf.columns]].sum(axis=1).std()\n",
    "        * convertion_factor\n",
    "        for test in tests\n",
    "    ]\n",
    "    for idx, val in enumerate(y_pandas):\n",
    "        y_cudf[idx] = y_cudf[idx] / val\n",
    "        y_polars[idx] = y_polars[idx] / val\n",
    "        y_pandas[idx] = y_pandas[idx] / val\n",
    "        std_cudf[idx] = std_cudf[idx] / val\n",
    "        std_pandas[idx] = std_pandas[idx] / val\n",
    "        std_polars[idx] = std_polars[idx] / val\n",
    "    fig.add_trace(\n",
    "        go.Bar(\n",
    "            x=tests,\n",
    "            y=y_cudf,\n",
    "            error_y=dict(\n",
    "                type=\"data\",  # value of error bar given in data coordinates\n",
    "                array=std_cudf,\n",
    "                visible=True,\n",
    "            ),\n",
    "            name=\"cudf\",\n",
    "        )\n",
    "    )\n",
    "    fig.add_trace(\n",
    "        go.Bar(\n",
    "            x=tests,\n",
    "            y=y_polars,\n",
    "            error_y=dict(\n",
    "                type=\"data\",  # value of error bar given in data coordinates\n",
    "                array=std_polars,\n",
    "                visible=True,\n",
    "            ),\n",
    "            name=\"polars\",\n",
    "        )\n",
    "    )\n",
    "    fig.add_trace(\n",
    "        go.Bar(\n",
    "            x=tests,\n",
    "            y=y_pandas,\n",
    "            error_y=dict(\n",
    "                type=\"data\",  # value of error bar given in data coordinates\n",
    "                array=std_pandas,\n",
    "                visible=True,\n",
    "            ),\n",
    "            name=\"pandas\",\n",
    "        )\n",
    "    )\n",
    "    fig.update_layout(\n",
    "        template=\"none\", title=f\"Average compute time with {'{:.0E}'.format(sample_size)} rows\"\n",
    "    )\n",
    "    fig.update_yaxes(\n",
    "        title=\"Compute time relative to pandas\"\n",
    "    )  # ,type=\"log\") # type=\"log\"\n",
    "    fig.show()\n",
    "    fig.write_image(f\"./../figs/relative_time_consumption_{sample_size}.svg\")"
   ]
  },
  {
   "cell_type": "code",
   "execution_count": 29,
   "metadata": {},
   "outputs": [
    {
     "name": "stderr",
     "output_type": "stream",
     "text": [
      "/tmp/ipykernel_2176/1342501957.py:4: SettingWithCopyWarning:\n",
      "\n",
      "\n",
      "A value is trying to be set on a copy of a slice from a DataFrame\n",
      "\n",
      "See the caveats in the documentation: https://pandas.pydata.org/pandas-docs/stable/user_guide/indexing.html#returning-a-view-versus-a-copy\n",
      "\n",
      "/tmp/ipykernel_2176/1342501957.py:10: SettingWithCopyWarning:\n",
      "\n",
      "\n",
      "A value is trying to be set on a copy of a slice from a DataFrame\n",
      "\n",
      "See the caveats in the documentation: https://pandas.pydata.org/pandas-docs/stable/user_guide/indexing.html#returning-a-view-versus-a-copy\n",
      "\n",
      "/tmp/ipykernel_2176/1342501957.py:18: SettingWithCopyWarning:\n",
      "\n",
      "\n",
      "A value is trying to be set on a copy of a slice from a DataFrame\n",
      "\n",
      "See the caveats in the documentation: https://pandas.pydata.org/pandas-docs/stable/user_guide/indexing.html#returning-a-view-versus-a-copy\n",
      "\n"
     ]
    },
    {
     "data": {
      "application/vnd.plotly.v1+json": {
       "config": {
        "plotlyServerURL": "https://plot.ly"
       },
       "data": [
        {
         "error_y": {
          "array": [
           0.003745533382656148,
           0.003745533382656148,
           0.003745533382656148
          ],
          "type": "data",
          "visible": true
         },
         "name": "cudf",
         "type": "bar",
         "x": [
          "load"
         ],
         "y": [
          0.02412996908421367,
          0.02412996908421367,
          0.02412996908421367
         ]
        },
        {
         "error_y": {
          "array": [
           0.0026227225038668667,
           0.0026227225038668667,
           0.0026227225038668667
          ],
          "type": "data",
          "visible": true
         },
         "name": "polars",
         "type": "bar",
         "x": [
          "load"
         ],
         "y": [
          0.2603945007032408,
          0.2603945007032408,
          0.2603945007032408
         ]
        },
        {
         "error_y": {
          "array": [
           0.01906931729006396,
           0.01906931729006396,
           0.01906931729006396
          ],
          "type": "data",
          "visible": true
         },
         "name": "pandas",
         "type": "bar",
         "x": [
          "load"
         ],
         "y": [
          1,
          1,
          1
         ]
        }
       ],
       "layout": {
        "template": {
         "data": {
          "scatter": [
           {
            "type": "scatter"
           }
          ]
         }
        },
        "title": {
         "text": "Average energy consumption for loading the dataset"
        },
        "yaxis": {
         "title": {
          "text": "Consumption relative to pandas"
         }
        }
       }
      },
      "text/html": [
       "<div>                            <div id=\"35df86b9-4508-4e61-8d81-9e6b24318281\" class=\"plotly-graph-div\" style=\"height:525px; width:100%;\"></div>            <script type=\"text/javascript\">                require([\"plotly\"], function(Plotly) {                    window.PLOTLYENV=window.PLOTLYENV || {};                                    if (document.getElementById(\"35df86b9-4508-4e61-8d81-9e6b24318281\")) {                    Plotly.newPlot(                        \"35df86b9-4508-4e61-8d81-9e6b24318281\",                        [{\"error_y\":{\"array\":[0.003745533382656148,0.003745533382656148,0.003745533382656148],\"type\":\"data\",\"visible\":true},\"name\":\"cudf\",\"x\":[\"load\"],\"y\":[0.02412996908421367,0.02412996908421367,0.02412996908421367],\"type\":\"bar\"},{\"error_y\":{\"array\":[0.0026227225038668667,0.0026227225038668667,0.0026227225038668667],\"type\":\"data\",\"visible\":true},\"name\":\"polars\",\"x\":[\"load\"],\"y\":[0.2603945007032408,0.2603945007032408,0.2603945007032408],\"type\":\"bar\"},{\"error_y\":{\"array\":[0.01906931729006396,0.01906931729006396,0.01906931729006396],\"type\":\"data\",\"visible\":true},\"name\":\"pandas\",\"x\":[\"load\"],\"y\":[1.0,1.0,1.0],\"type\":\"bar\"}],                        {\"template\":{\"data\":{\"scatter\":[{\"type\":\"scatter\"}]}},\"title\":{\"text\":\"Average energy consumption for loading the dataset\"},\"yaxis\":{\"title\":{\"text\":\"Consumption relative to pandas\"}}},                        {\"responsive\": true}                    ).then(function(){\n",
       "                            \n",
       "var gd = document.getElementById('35df86b9-4508-4e61-8d81-9e6b24318281');\n",
       "var x = new MutationObserver(function (mutations, observer) {{\n",
       "        var display = window.getComputedStyle(gd).display;\n",
       "        if (!display || display === 'none') {{\n",
       "            console.log([gd, 'removed!']);\n",
       "            Plotly.purge(gd);\n",
       "            observer.disconnect();\n",
       "        }}\n",
       "}});\n",
       "\n",
       "// Listen for the removal of the full notebook cells\n",
       "var notebookContainer = gd.closest('#notebook-container');\n",
       "if (notebookContainer) {{\n",
       "    x.observe(notebookContainer, {childList: true});\n",
       "}}\n",
       "\n",
       "// Listen for the clearing of the current output cell\n",
       "var outputEl = gd.closest('.output');\n",
       "if (outputEl) {{\n",
       "    x.observe(outputEl, {childList: true});\n",
       "}}\n",
       "\n",
       "                        })                };                });            </script>        </div>"
      ]
     },
     "metadata": {},
     "output_type": "display_data"
    }
   ],
   "source": [
    "fig = go.Figure()\n",
    "sample_size = 100000\n",
    "cudf_tdf = cudf_df[cudf_df[\"n\"] == sample_size]\n",
    "cudf_tdf.drop(\n",
    "    columns=[c for c in cudf_tdf.columns if \"sec\" in c or not \"load\" in c or c == \"n\"],\n",
    "    inplace=True,\n",
    ")\n",
    "cudf_tdf = cudf_tdf.map(lambda x: x if x >= 0 else x + 65532610987)\n",
    "polars_tdf = polars_df[polars_df[\"n\"] == sample_size]\n",
    "polars_tdf.drop(\n",
    "    columns=[\n",
    "        c for c in polars_tdf.columns if \"sec\" in c or not \"load\" in c or c == \"n\"\n",
    "    ],\n",
    "    inplace=True,\n",
    ")\n",
    "polars_tdf = polars_tdf.map(lambda x: x if x >= 0 else x + 65532610987)\n",
    "pandas_tdf = pandas_df[pandas_df[\"n\"] == sample_size]\n",
    "pandas_tdf.drop(\n",
    "    columns=[\n",
    "        c for c in pandas_tdf.columns if \"sec\" in c or not \"load\" in c or c == \"n\"\n",
    "    ],\n",
    "    inplace=True,\n",
    ")\n",
    "pandas_tdf = pandas_tdf.map(lambda x: x if x >= 0 else x + 65532610987)\n",
    "y_cudf = [\n",
    "    cudf_tdf.loc[:, [\"load\" in c for c in cudf_tdf.columns]].mean().sum()\n",
    "    * convertion_factor\n",
    "    for test in tests\n",
    "]\n",
    "y_polars = [\n",
    "    polars_tdf.loc[:, [\"load\" in c for c in polars_tdf.columns]].mean().sum()\n",
    "    * convertion_factor\n",
    "    for test in tests\n",
    "]\n",
    "y_pandas = [\n",
    "    pandas_tdf.loc[:, [\"load\" in c for c in pandas_tdf.columns]].mean().sum()\n",
    "    * convertion_factor\n",
    "    for test in tests\n",
    "]\n",
    "std_cudf = [\n",
    "    cudf_tdf.loc[:, [\"load\" in c for c in pandas_tdf.columns]].sum(axis=1).std()\n",
    "    * convertion_factor\n",
    "    for test in tests\n",
    "]\n",
    "std_pandas = [\n",
    "    pandas_tdf.loc[:, [\"load\" in c for c in pandas_tdf.columns]].sum(axis=1).std()\n",
    "    * convertion_factor\n",
    "    for test in tests\n",
    "]\n",
    "std_polars = [\n",
    "    polars_tdf.loc[:, [\"load\" in c for c in pandas_tdf.columns]].sum(axis=1).std()\n",
    "    * convertion_factor\n",
    "    for test in tests\n",
    "]\n",
    "for idx, val in enumerate(y_pandas):\n",
    "    y_cudf[idx] = y_cudf[idx] / val\n",
    "    y_polars[idx] = y_polars[idx] / val\n",
    "    y_pandas[idx] = y_pandas[idx] / val\n",
    "    std_cudf[idx] = std_cudf[idx] / val\n",
    "    std_pandas[idx] = std_pandas[idx] / val\n",
    "    std_polars[idx] = std_polars[idx] / val\n",
    "fig.add_trace(\n",
    "    go.Bar(\n",
    "        x=[\"load\"],\n",
    "        y=y_cudf,\n",
    "        error_y=dict(\n",
    "            type=\"data\",  # value of error bar given in data coordinates\n",
    "            array=std_cudf,\n",
    "            visible=True,\n",
    "        ),\n",
    "        name=\"cudf\",\n",
    "    )\n",
    ")\n",
    "fig.add_trace(\n",
    "    go.Bar(\n",
    "        x=[\"load\"],\n",
    "        y=y_polars,\n",
    "        error_y=dict(\n",
    "            type=\"data\",  # value of error bar given in data coordinates\n",
    "            array=std_polars,\n",
    "            visible=True,\n",
    "        ),\n",
    "        name=\"polars\",\n",
    "    )\n",
    ")\n",
    "fig.add_trace(\n",
    "    go.Bar(\n",
    "        x=[\"load\"],\n",
    "        y=y_pandas,\n",
    "        error_y=dict(\n",
    "            type=\"data\",  # value of error bar given in data coordinates\n",
    "            array=std_pandas,\n",
    "            visible=True,\n",
    "        ),\n",
    "        name=\"pandas\",\n",
    "    )\n",
    ")\n",
    "# fig.add_trace(go.Bar(x=[\"load\"], y=y_cudf, name=\"cudf\"))\n",
    "# fig.add_trace(go.Bar(x=[\"load\"], y=y_polars, name=\"polars\"))\n",
    "# fig.add_trace(go.Bar(x=[\"load\"], y=y_pandas, name=\"pandas\"))\n",
    "fig.update_layout(\n",
    "    template=\"none\", title=f\"Average energy consumption for loading the dataset\"\n",
    ")\n",
    "fig.update_yaxes(title=\"Consumption relative to pandas\")  # ,type=\"log\") # type=\"log\"\n",
    "fig.show()\n",
    "fig.write_image(f\"./../figs/relative_energy_consumption_loading.svg\")"
   ]
  },
  {
   "cell_type": "code",
   "execution_count": 30,
   "metadata": {},
   "outputs": [
    {
     "name": "stderr",
     "output_type": "stream",
     "text": [
      "/tmp/ipykernel_2176/2583669171.py:4: SettingWithCopyWarning:\n",
      "\n",
      "\n",
      "A value is trying to be set on a copy of a slice from a DataFrame\n",
      "\n",
      "See the caveats in the documentation: https://pandas.pydata.org/pandas-docs/stable/user_guide/indexing.html#returning-a-view-versus-a-copy\n",
      "\n",
      "/tmp/ipykernel_2176/2583669171.py:10: SettingWithCopyWarning:\n",
      "\n",
      "\n",
      "A value is trying to be set on a copy of a slice from a DataFrame\n",
      "\n",
      "See the caveats in the documentation: https://pandas.pydata.org/pandas-docs/stable/user_guide/indexing.html#returning-a-view-versus-a-copy\n",
      "\n",
      "/tmp/ipykernel_2176/2583669171.py:18: SettingWithCopyWarning:\n",
      "\n",
      "\n",
      "A value is trying to be set on a copy of a slice from a DataFrame\n",
      "\n",
      "See the caveats in the documentation: https://pandas.pydata.org/pandas-docs/stable/user_guide/indexing.html#returning-a-view-versus-a-copy\n",
      "\n"
     ]
    },
    {
     "data": {
      "application/vnd.plotly.v1+json": {
       "config": {
        "plotlyServerURL": "https://plot.ly"
       },
       "data": [
        {
         "error_y": {
          "array": [
           0.0028494659914796213,
           0.0028494659914796213,
           0.0028494659914796213
          ],
          "type": "data",
          "visible": true
         },
         "name": "cudf",
         "type": "bar",
         "x": [
          "load"
         ],
         "y": [
          0.02489315766432402,
          0.02489315766432402,
          0.02489315766432402
         ]
        },
        {
         "error_y": {
          "array": [
           0.0014254975330306688,
           0.0014254975330306688,
           0.0014254975330306688
          ],
          "type": "data",
          "visible": true
         },
         "name": "polars",
         "type": "bar",
         "x": [
          "load"
         ],
         "y": [
          0.1301538344753493,
          0.1301538344753493,
          0.1301538344753493
         ]
        },
        {
         "error_y": {
          "array": [
           0.020418448974613063,
           0.020418448974613063,
           0.020418448974613063
          ],
          "type": "data",
          "visible": true
         },
         "name": "pandas",
         "type": "bar",
         "x": [
          "load"
         ],
         "y": [
          1,
          1,
          1
         ]
        }
       ],
       "layout": {
        "template": {
         "data": {
          "scatter": [
           {
            "type": "scatter"
           }
          ]
         }
        },
        "title": {
         "text": "Average compute time for loading the dataset"
        },
        "yaxis": {
         "title": {
          "text": "Compute time relative to pandas"
         }
        }
       }
      },
      "text/html": [
       "<div>                            <div id=\"b4bb0fe0-5676-478f-9f10-61bd31cc0781\" class=\"plotly-graph-div\" style=\"height:525px; width:100%;\"></div>            <script type=\"text/javascript\">                require([\"plotly\"], function(Plotly) {                    window.PLOTLYENV=window.PLOTLYENV || {};                                    if (document.getElementById(\"b4bb0fe0-5676-478f-9f10-61bd31cc0781\")) {                    Plotly.newPlot(                        \"b4bb0fe0-5676-478f-9f10-61bd31cc0781\",                        [{\"error_y\":{\"array\":[0.0028494659914796213,0.0028494659914796213,0.0028494659914796213],\"type\":\"data\",\"visible\":true},\"name\":\"cudf\",\"x\":[\"load\"],\"y\":[0.02489315766432402,0.02489315766432402,0.02489315766432402],\"type\":\"bar\"},{\"error_y\":{\"array\":[0.0014254975330306688,0.0014254975330306688,0.0014254975330306688],\"type\":\"data\",\"visible\":true},\"name\":\"polars\",\"x\":[\"load\"],\"y\":[0.1301538344753493,0.1301538344753493,0.1301538344753493],\"type\":\"bar\"},{\"error_y\":{\"array\":[0.020418448974613063,0.020418448974613063,0.020418448974613063],\"type\":\"data\",\"visible\":true},\"name\":\"pandas\",\"x\":[\"load\"],\"y\":[1.0,1.0,1.0],\"type\":\"bar\"}],                        {\"template\":{\"data\":{\"scatter\":[{\"type\":\"scatter\"}]}},\"title\":{\"text\":\"Average compute time for loading the dataset\"},\"yaxis\":{\"title\":{\"text\":\"Compute time relative to pandas\"}}},                        {\"responsive\": true}                    ).then(function(){\n",
       "                            \n",
       "var gd = document.getElementById('b4bb0fe0-5676-478f-9f10-61bd31cc0781');\n",
       "var x = new MutationObserver(function (mutations, observer) {{\n",
       "        var display = window.getComputedStyle(gd).display;\n",
       "        if (!display || display === 'none') {{\n",
       "            console.log([gd, 'removed!']);\n",
       "            Plotly.purge(gd);\n",
       "            observer.disconnect();\n",
       "        }}\n",
       "}});\n",
       "\n",
       "// Listen for the removal of the full notebook cells\n",
       "var notebookContainer = gd.closest('#notebook-container');\n",
       "if (notebookContainer) {{\n",
       "    x.observe(notebookContainer, {childList: true});\n",
       "}}\n",
       "\n",
       "// Listen for the clearing of the current output cell\n",
       "var outputEl = gd.closest('.output');\n",
       "if (outputEl) {{\n",
       "    x.observe(outputEl, {childList: true});\n",
       "}}\n",
       "\n",
       "                        })                };                });            </script>        </div>"
      ]
     },
     "metadata": {},
     "output_type": "display_data"
    }
   ],
   "source": [
    "fig = go.Figure()\n",
    "sample_size = 100000\n",
    "cudf_tdf = cudf_df[cudf_df[\"n\"] == sample_size]\n",
    "cudf_tdf.drop(\n",
    "    columns=[c for c in cudf_tdf.columns if \"µJ_\" in c or not \"load\" in c or c == \"n\"],\n",
    "    inplace=True,\n",
    ")\n",
    "cudf_tdf = cudf_tdf.map(lambda x: x if x >= 0 else x + 65532610987)\n",
    "polars_tdf = polars_df[polars_df[\"n\"] == sample_size]\n",
    "polars_tdf.drop(\n",
    "    columns=[\n",
    "        c for c in polars_tdf.columns if \"µJ_\" in c or not \"load\" in c or c == \"n\"\n",
    "    ],\n",
    "    inplace=True,\n",
    ")\n",
    "polars_tdf = polars_tdf.map(lambda x: x if x >= 0 else x + 65532610987)\n",
    "pandas_tdf = pandas_df[pandas_df[\"n\"] == sample_size]\n",
    "pandas_tdf.drop(\n",
    "    columns=[\n",
    "        c for c in pandas_tdf.columns if \"µJ_\" in c or not \"load\" in c or c == \"n\"\n",
    "    ],\n",
    "    inplace=True,\n",
    ")\n",
    "pandas_tdf = pandas_tdf.map(lambda x: x if x >= 0 else x + 65532610987)\n",
    "y_cudf = [\n",
    "    cudf_tdf.loc[:, [\"load\" in c for c in cudf_tdf.columns]].mean().sum()\n",
    "    * convertion_factor\n",
    "    for test in tests\n",
    "]\n",
    "y_polars = [\n",
    "    polars_tdf.loc[:, [\"load\" in c for c in polars_tdf.columns]].mean().sum()\n",
    "    * convertion_factor\n",
    "    for test in tests\n",
    "]\n",
    "y_pandas = [\n",
    "    pandas_tdf.loc[:, [\"load\" in c for c in pandas_tdf.columns]].mean().sum()\n",
    "    * convertion_factor\n",
    "    for test in tests\n",
    "]\n",
    "std_cudf = [\n",
    "    cudf_tdf.loc[:, [\"load\" in c for c in pandas_tdf.columns]].sum(axis=1).std()\n",
    "    * convertion_factor\n",
    "    for test in tests\n",
    "]\n",
    "std_pandas = [\n",
    "    pandas_tdf.loc[:, [\"load\" in c for c in pandas_tdf.columns]].sum(axis=1).std()\n",
    "    * convertion_factor\n",
    "    for test in tests\n",
    "]\n",
    "std_polars = [\n",
    "    polars_tdf.loc[:, [\"load\" in c for c in pandas_tdf.columns]].sum(axis=1).std()\n",
    "    * convertion_factor\n",
    "    for test in tests\n",
    "]\n",
    "for idx, val in enumerate(y_pandas):\n",
    "    y_cudf[idx] = y_cudf[idx] / val\n",
    "    y_polars[idx] = y_polars[idx] / val\n",
    "    y_pandas[idx] = y_pandas[idx] / val\n",
    "    std_cudf[idx] = std_cudf[idx] / val\n",
    "    std_pandas[idx] = std_pandas[idx] / val\n",
    "    std_polars[idx] = std_polars[idx] / val\n",
    "fig.add_trace(\n",
    "    go.Bar(\n",
    "        x=[\"load\"],\n",
    "        y=y_cudf,\n",
    "        error_y=dict(\n",
    "            type=\"data\",  # value of error bar given in data coordinates\n",
    "            array=std_cudf,\n",
    "            visible=True,\n",
    "        ),\n",
    "        name=\"cudf\",\n",
    "    )\n",
    ")\n",
    "fig.add_trace(\n",
    "    go.Bar(\n",
    "        x=[\"load\"],\n",
    "        y=y_polars,\n",
    "        error_y=dict(\n",
    "            type=\"data\",  # value of error bar given in data coordinates\n",
    "            array=std_polars,\n",
    "            visible=True,\n",
    "        ),\n",
    "        name=\"polars\",\n",
    "    )\n",
    ")\n",
    "fig.add_trace(\n",
    "    go.Bar(\n",
    "        x=[\"load\"],\n",
    "        y=y_pandas,\n",
    "        error_y=dict(\n",
    "            type=\"data\",  # value of error bar given in data coordinates\n",
    "            array=std_pandas,\n",
    "            visible=True,\n",
    "        ),\n",
    "        name=\"pandas\",\n",
    "    )\n",
    ")\n",
    "fig.update_layout(\n",
    "    template=\"none\", title=f\"Average compute time for loading the dataset\"\n",
    ")\n",
    "fig.update_yaxes(title=\"Compute time relative to pandas\")  # ,type=\"log\") # type=\"log\"\n",
    "fig.show()\n",
    "fig.write_image(f\"./../figs/relative_time_consumption_loading.svg\")"
   ]
  },
  {
   "cell_type": "code",
   "execution_count": 31,
   "metadata": {},
   "outputs": [
    {
     "name": "stderr",
     "output_type": "stream",
     "text": [
      "/tmp/ipykernel_2176/1941926297.py:6: SettingWithCopyWarning:\n",
      "\n",
      "\n",
      "A value is trying to be set on a copy of a slice from a DataFrame\n",
      "\n",
      "See the caveats in the documentation: https://pandas.pydata.org/pandas-docs/stable/user_guide/indexing.html#returning-a-view-versus-a-copy\n",
      "\n",
      "/tmp/ipykernel_2176/1941926297.py:14: SettingWithCopyWarning:\n",
      "\n",
      "\n",
      "A value is trying to be set on a copy of a slice from a DataFrame\n",
      "\n",
      "See the caveats in the documentation: https://pandas.pydata.org/pandas-docs/stable/user_guide/indexing.html#returning-a-view-versus-a-copy\n",
      "\n",
      "/tmp/ipykernel_2176/1941926297.py:22: SettingWithCopyWarning:\n",
      "\n",
      "\n",
      "A value is trying to be set on a copy of a slice from a DataFrame\n",
      "\n",
      "See the caveats in the documentation: https://pandas.pydata.org/pandas-docs/stable/user_guide/indexing.html#returning-a-view-versus-a-copy\n",
      "\n"
     ]
    },
    {
     "data": {
      "application/vnd.plotly.v1+json": {
       "config": {
        "plotlyServerURL": "https://plot.ly"
       },
       "data": [
        {
         "error_y": {
          "array": [
           0.028462551287685926,
           0.333366891657963
          ],
          "type": "data",
          "visible": true
         },
         "name": "cudf",
         "type": "bar",
         "x": [
          "cpu",
          "gpu"
         ],
         "y": [
          0.03250566892417261,
          0.20475689328562408
         ]
        },
        {
         "error_y": {
          "array": [
           0.008691895421163876,
           0.00808707084214814
          ],
          "type": "data",
          "visible": true
         },
         "name": "polars",
         "type": "bar",
         "x": [
          "cpu",
          "gpu"
         ],
         "y": [
          0.07653224547284565,
          0.0025573563460324143
         ]
        },
        {
         "error_y": {
          "array": [
           0.03893567448142966,
           0.05985687801054259
          ],
          "type": "data",
          "visible": true
         },
         "name": "pandas",
         "type": "bar",
         "x": [
          "cpu",
          "gpu"
         ],
         "y": [
          1,
          1
         ]
        }
       ],
       "layout": {
        "template": {
         "data": {
          "scatter": [
           {
            "type": "scatter"
           }
          ]
         }
        },
        "title": {
         "text": "Average energy consumption for drop_duplicates on 1E+05 rows"
        },
        "yaxis": {
         "title": {
          "text": "Consumption relative to pandas"
         }
        }
       }
      },
      "text/html": [
       "<div>                            <div id=\"4fe40792-5876-4fe2-9000-e76bf63071bd\" class=\"plotly-graph-div\" style=\"height:525px; width:100%;\"></div>            <script type=\"text/javascript\">                require([\"plotly\"], function(Plotly) {                    window.PLOTLYENV=window.PLOTLYENV || {};                                    if (document.getElementById(\"4fe40792-5876-4fe2-9000-e76bf63071bd\")) {                    Plotly.newPlot(                        \"4fe40792-5876-4fe2-9000-e76bf63071bd\",                        [{\"error_y\":{\"array\":[0.028462551287685926,0.333366891657963],\"type\":\"data\",\"visible\":true},\"name\":\"cudf\",\"x\":[\"cpu\",\"gpu\"],\"y\":[0.03250566892417261,0.20475689328562408],\"type\":\"bar\"},{\"error_y\":{\"array\":[0.008691895421163876,0.00808707084214814],\"type\":\"data\",\"visible\":true},\"name\":\"polars\",\"x\":[\"cpu\",\"gpu\"],\"y\":[0.07653224547284565,0.0025573563460324143],\"type\":\"bar\"},{\"error_y\":{\"array\":[0.03893567448142966,0.05985687801054259],\"type\":\"data\",\"visible\":true},\"name\":\"pandas\",\"x\":[\"cpu\",\"gpu\"],\"y\":[1.0,1.0],\"type\":\"bar\"}],                        {\"template\":{\"data\":{\"scatter\":[{\"type\":\"scatter\"}]}},\"title\":{\"text\":\"Average energy consumption for drop_duplicates on 1E+05 rows\"},\"yaxis\":{\"title\":{\"text\":\"Consumption relative to pandas\"}}},                        {\"responsive\": true}                    ).then(function(){\n",
       "                            \n",
       "var gd = document.getElementById('4fe40792-5876-4fe2-9000-e76bf63071bd');\n",
       "var x = new MutationObserver(function (mutations, observer) {{\n",
       "        var display = window.getComputedStyle(gd).display;\n",
       "        if (!display || display === 'none') {{\n",
       "            console.log([gd, 'removed!']);\n",
       "            Plotly.purge(gd);\n",
       "            observer.disconnect();\n",
       "        }}\n",
       "}});\n",
       "\n",
       "// Listen for the removal of the full notebook cells\n",
       "var notebookContainer = gd.closest('#notebook-container');\n",
       "if (notebookContainer) {{\n",
       "    x.observe(notebookContainer, {childList: true});\n",
       "}}\n",
       "\n",
       "// Listen for the clearing of the current output cell\n",
       "var outputEl = gd.closest('.output');\n",
       "if (outputEl) {{\n",
       "    x.observe(outputEl, {childList: true});\n",
       "}}\n",
       "\n",
       "                        })                };                });            </script>        </div>"
      ]
     },
     "metadata": {},
     "output_type": "display_data"
    },
    {
     "name": "stderr",
     "output_type": "stream",
     "text": [
      "/tmp/ipykernel_2176/1941926297.py:6: SettingWithCopyWarning:\n",
      "\n",
      "\n",
      "A value is trying to be set on a copy of a slice from a DataFrame\n",
      "\n",
      "See the caveats in the documentation: https://pandas.pydata.org/pandas-docs/stable/user_guide/indexing.html#returning-a-view-versus-a-copy\n",
      "\n",
      "/tmp/ipykernel_2176/1941926297.py:14: SettingWithCopyWarning:\n",
      "\n",
      "\n",
      "A value is trying to be set on a copy of a slice from a DataFrame\n",
      "\n",
      "See the caveats in the documentation: https://pandas.pydata.org/pandas-docs/stable/user_guide/indexing.html#returning-a-view-versus-a-copy\n",
      "\n",
      "/tmp/ipykernel_2176/1941926297.py:22: SettingWithCopyWarning:\n",
      "\n",
      "\n",
      "A value is trying to be set on a copy of a slice from a DataFrame\n",
      "\n",
      "See the caveats in the documentation: https://pandas.pydata.org/pandas-docs/stable/user_guide/indexing.html#returning-a-view-versus-a-copy\n",
      "\n",
      "/tmp/ipykernel_2176/1941926297.py:60: RuntimeWarning:\n",
      "\n",
      "divide by zero encountered in scalar divide\n",
      "\n",
      "/tmp/ipykernel_2176/1941926297.py:61: RuntimeWarning:\n",
      "\n",
      "invalid value encountered in scalar divide\n",
      "\n",
      "/tmp/ipykernel_2176/1941926297.py:62: RuntimeWarning:\n",
      "\n",
      "invalid value encountered in scalar divide\n",
      "\n",
      "/tmp/ipykernel_2176/1941926297.py:63: RuntimeWarning:\n",
      "\n",
      "divide by zero encountered in scalar divide\n",
      "\n",
      "/tmp/ipykernel_2176/1941926297.py:64: RuntimeWarning:\n",
      "\n",
      "invalid value encountered in scalar divide\n",
      "\n",
      "/tmp/ipykernel_2176/1941926297.py:65: RuntimeWarning:\n",
      "\n",
      "invalid value encountered in scalar divide\n",
      "\n"
     ]
    },
    {
     "data": {
      "application/vnd.plotly.v1+json": {
       "config": {
        "plotlyServerURL": "https://plot.ly"
       },
       "data": [
        {
         "error_y": {
          "array": [
           11.065218505417066,
           null
          ],
          "type": "data",
          "visible": true
         },
         "name": "cudf",
         "type": "bar",
         "x": [
          "cpu",
          "gpu"
         ],
         "y": [
          5.4826192042456,
          null
         ]
        },
        {
         "error_y": {
          "array": [
           0.5058222030470444,
           null
          ],
          "type": "data",
          "visible": true
         },
         "name": "polars",
         "type": "bar",
         "x": [
          "cpu",
          "gpu"
         ],
         "y": [
          1.4366116502701543,
          null
         ]
        },
        {
         "error_y": {
          "array": [
           0.530444308281134,
           null
          ],
          "type": "data",
          "visible": true
         },
         "name": "pandas",
         "type": "bar",
         "x": [
          "cpu",
          "gpu"
         ],
         "y": [
          1,
          null
         ]
        }
       ],
       "layout": {
        "template": {
         "data": {
          "scatter": [
           {
            "type": "scatter"
           }
          ]
         }
        },
        "title": {
         "text": "Average energy consumption for groupby on 1E+05 rows"
        },
        "yaxis": {
         "title": {
          "text": "Consumption relative to pandas"
         }
        }
       }
      },
      "text/html": [
       "<div>                            <div id=\"dcb80101-1916-42ef-abef-f27db403b6d2\" class=\"plotly-graph-div\" style=\"height:525px; width:100%;\"></div>            <script type=\"text/javascript\">                require([\"plotly\"], function(Plotly) {                    window.PLOTLYENV=window.PLOTLYENV || {};                                    if (document.getElementById(\"dcb80101-1916-42ef-abef-f27db403b6d2\")) {                    Plotly.newPlot(                        \"dcb80101-1916-42ef-abef-f27db403b6d2\",                        [{\"error_y\":{\"array\":[11.065218505417066,null],\"type\":\"data\",\"visible\":true},\"name\":\"cudf\",\"x\":[\"cpu\",\"gpu\"],\"y\":[5.4826192042456,null],\"type\":\"bar\"},{\"error_y\":{\"array\":[0.5058222030470444,null],\"type\":\"data\",\"visible\":true},\"name\":\"polars\",\"x\":[\"cpu\",\"gpu\"],\"y\":[1.4366116502701543,null],\"type\":\"bar\"},{\"error_y\":{\"array\":[0.530444308281134,null],\"type\":\"data\",\"visible\":true},\"name\":\"pandas\",\"x\":[\"cpu\",\"gpu\"],\"y\":[1.0,null],\"type\":\"bar\"}],                        {\"template\":{\"data\":{\"scatter\":[{\"type\":\"scatter\"}]}},\"title\":{\"text\":\"Average energy consumption for groupby on 1E+05 rows\"},\"yaxis\":{\"title\":{\"text\":\"Consumption relative to pandas\"}}},                        {\"responsive\": true}                    ).then(function(){\n",
       "                            \n",
       "var gd = document.getElementById('dcb80101-1916-42ef-abef-f27db403b6d2');\n",
       "var x = new MutationObserver(function (mutations, observer) {{\n",
       "        var display = window.getComputedStyle(gd).display;\n",
       "        if (!display || display === 'none') {{\n",
       "            console.log([gd, 'removed!']);\n",
       "            Plotly.purge(gd);\n",
       "            observer.disconnect();\n",
       "        }}\n",
       "}});\n",
       "\n",
       "// Listen for the removal of the full notebook cells\n",
       "var notebookContainer = gd.closest('#notebook-container');\n",
       "if (notebookContainer) {{\n",
       "    x.observe(notebookContainer, {childList: true});\n",
       "}}\n",
       "\n",
       "// Listen for the clearing of the current output cell\n",
       "var outputEl = gd.closest('.output');\n",
       "if (outputEl) {{\n",
       "    x.observe(outputEl, {childList: true});\n",
       "}}\n",
       "\n",
       "                        })                };                });            </script>        </div>"
      ]
     },
     "metadata": {},
     "output_type": "display_data"
    },
    {
     "name": "stderr",
     "output_type": "stream",
     "text": [
      "/tmp/ipykernel_2176/1941926297.py:6: SettingWithCopyWarning:\n",
      "\n",
      "\n",
      "A value is trying to be set on a copy of a slice from a DataFrame\n",
      "\n",
      "See the caveats in the documentation: https://pandas.pydata.org/pandas-docs/stable/user_guide/indexing.html#returning-a-view-versus-a-copy\n",
      "\n",
      "/tmp/ipykernel_2176/1941926297.py:14: SettingWithCopyWarning:\n",
      "\n",
      "\n",
      "A value is trying to be set on a copy of a slice from a DataFrame\n",
      "\n",
      "See the caveats in the documentation: https://pandas.pydata.org/pandas-docs/stable/user_guide/indexing.html#returning-a-view-versus-a-copy\n",
      "\n",
      "/tmp/ipykernel_2176/1941926297.py:22: SettingWithCopyWarning:\n",
      "\n",
      "\n",
      "A value is trying to be set on a copy of a slice from a DataFrame\n",
      "\n",
      "See the caveats in the documentation: https://pandas.pydata.org/pandas-docs/stable/user_guide/indexing.html#returning-a-view-versus-a-copy\n",
      "\n"
     ]
    },
    {
     "data": {
      "application/vnd.plotly.v1+json": {
       "config": {
        "plotlyServerURL": "https://plot.ly"
       },
       "data": [
        {
         "error_y": {
          "array": [
           0.14659233449933148,
           0.6710229183988666
          ],
          "type": "data",
          "visible": true
         },
         "name": "cudf",
         "type": "bar",
         "x": [
          "cpu",
          "gpu"
         ],
         "y": [
          0.09716657107012455,
          0.21219607843137256
         ]
        },
        {
         "error_y": {
          "array": [
           0.01778769611025461,
           0.020833829290521088
          ],
          "type": "data",
          "visible": true
         },
         "name": "polars",
         "type": "bar",
         "x": [
          "cpu",
          "gpu"
         ],
         "y": [
          0.13637195935135152,
          0.0065882352941176465
         ]
        },
        {
         "error_y": {
          "array": [
           0.030527663624171846,
           0.22090025862343404
          ],
          "type": "data",
          "visible": true
         },
         "name": "pandas",
         "type": "bar",
         "x": [
          "cpu",
          "gpu"
         ],
         "y": [
          1,
          1
         ]
        }
       ],
       "layout": {
        "template": {
         "data": {
          "scatter": [
           {
            "type": "scatter"
           }
          ]
         }
        },
        "title": {
         "text": "Average energy consumption for sort on 1E+05 rows"
        },
        "yaxis": {
         "title": {
          "text": "Consumption relative to pandas"
         }
        }
       }
      },
      "text/html": [
       "<div>                            <div id=\"fa496f34-d950-4af3-8325-b034d992f989\" class=\"plotly-graph-div\" style=\"height:525px; width:100%;\"></div>            <script type=\"text/javascript\">                require([\"plotly\"], function(Plotly) {                    window.PLOTLYENV=window.PLOTLYENV || {};                                    if (document.getElementById(\"fa496f34-d950-4af3-8325-b034d992f989\")) {                    Plotly.newPlot(                        \"fa496f34-d950-4af3-8325-b034d992f989\",                        [{\"error_y\":{\"array\":[0.14659233449933148,0.6710229183988666],\"type\":\"data\",\"visible\":true},\"name\":\"cudf\",\"x\":[\"cpu\",\"gpu\"],\"y\":[0.09716657107012455,0.21219607843137256],\"type\":\"bar\"},{\"error_y\":{\"array\":[0.01778769611025461,0.020833829290521088],\"type\":\"data\",\"visible\":true},\"name\":\"polars\",\"x\":[\"cpu\",\"gpu\"],\"y\":[0.13637195935135152,0.0065882352941176465],\"type\":\"bar\"},{\"error_y\":{\"array\":[0.030527663624171846,0.22090025862343404],\"type\":\"data\",\"visible\":true},\"name\":\"pandas\",\"x\":[\"cpu\",\"gpu\"],\"y\":[1.0,1.0],\"type\":\"bar\"}],                        {\"template\":{\"data\":{\"scatter\":[{\"type\":\"scatter\"}]}},\"title\":{\"text\":\"Average energy consumption for sort on 1E+05 rows\"},\"yaxis\":{\"title\":{\"text\":\"Consumption relative to pandas\"}}},                        {\"responsive\": true}                    ).then(function(){\n",
       "                            \n",
       "var gd = document.getElementById('fa496f34-d950-4af3-8325-b034d992f989');\n",
       "var x = new MutationObserver(function (mutations, observer) {{\n",
       "        var display = window.getComputedStyle(gd).display;\n",
       "        if (!display || display === 'none') {{\n",
       "            console.log([gd, 'removed!']);\n",
       "            Plotly.purge(gd);\n",
       "            observer.disconnect();\n",
       "        }}\n",
       "}});\n",
       "\n",
       "// Listen for the removal of the full notebook cells\n",
       "var notebookContainer = gd.closest('#notebook-container');\n",
       "if (notebookContainer) {{\n",
       "    x.observe(notebookContainer, {childList: true});\n",
       "}}\n",
       "\n",
       "// Listen for the clearing of the current output cell\n",
       "var outputEl = gd.closest('.output');\n",
       "if (outputEl) {{\n",
       "    x.observe(outputEl, {childList: true});\n",
       "}}\n",
       "\n",
       "                        })                };                });            </script>        </div>"
      ]
     },
     "metadata": {},
     "output_type": "display_data"
    },
    {
     "name": "stderr",
     "output_type": "stream",
     "text": [
      "/tmp/ipykernel_2176/1941926297.py:6: SettingWithCopyWarning:\n",
      "\n",
      "\n",
      "A value is trying to be set on a copy of a slice from a DataFrame\n",
      "\n",
      "See the caveats in the documentation: https://pandas.pydata.org/pandas-docs/stable/user_guide/indexing.html#returning-a-view-versus-a-copy\n",
      "\n",
      "/tmp/ipykernel_2176/1941926297.py:14: SettingWithCopyWarning:\n",
      "\n",
      "\n",
      "A value is trying to be set on a copy of a slice from a DataFrame\n",
      "\n",
      "See the caveats in the documentation: https://pandas.pydata.org/pandas-docs/stable/user_guide/indexing.html#returning-a-view-versus-a-copy\n",
      "\n",
      "/tmp/ipykernel_2176/1941926297.py:22: SettingWithCopyWarning:\n",
      "\n",
      "\n",
      "A value is trying to be set on a copy of a slice from a DataFrame\n",
      "\n",
      "See the caveats in the documentation: https://pandas.pydata.org/pandas-docs/stable/user_guide/indexing.html#returning-a-view-versus-a-copy\n",
      "\n"
     ]
    },
    {
     "data": {
      "application/vnd.plotly.v1+json": {
       "config": {
        "plotlyServerURL": "https://plot.ly"
       },
       "data": [
        {
         "error_y": {
          "array": [
           0.00008536019969771935,
           0.02145794298832149
          ],
          "type": "data",
          "visible": true
         },
         "name": "cudf",
         "type": "bar",
         "x": [
          "cpu",
          "gpu"
         ],
         "y": [
          0.007214057043085027,
          0.02414319133826
         ]
        },
        {
         "error_y": {
          "array": [
           0.0006846725310627188,
           0.003777592705013807
          ],
          "type": "data",
          "visible": true
         },
         "name": "polars",
         "type": "bar",
         "x": [
          "cpu",
          "gpu"
         ],
         "y": [
          0.0755198676852922,
          0.02573876749430177
         ]
        },
        {
         "error_y": {
          "array": [
           0.013287205004860551,
           0.01296757712358291
          ],
          "type": "data",
          "visible": true
         },
         "name": "pandas",
         "type": "bar",
         "x": [
          "cpu",
          "gpu"
         ],
         "y": [
          1,
          1
         ]
        }
       ],
       "layout": {
        "template": {
         "data": {
          "scatter": [
           {
            "type": "scatter"
           }
          ]
         }
        },
        "title": {
         "text": "Average energy consumption for drop_duplicates on 1E+06 rows"
        },
        "yaxis": {
         "title": {
          "text": "Consumption relative to pandas"
         }
        }
       }
      },
      "text/html": [
       "<div>                            <div id=\"6b3d5fbc-c9f2-4abc-915d-1cd9caa08ec7\" class=\"plotly-graph-div\" style=\"height:525px; width:100%;\"></div>            <script type=\"text/javascript\">                require([\"plotly\"], function(Plotly) {                    window.PLOTLYENV=window.PLOTLYENV || {};                                    if (document.getElementById(\"6b3d5fbc-c9f2-4abc-915d-1cd9caa08ec7\")) {                    Plotly.newPlot(                        \"6b3d5fbc-c9f2-4abc-915d-1cd9caa08ec7\",                        [{\"error_y\":{\"array\":[8.536019969771935e-05,0.02145794298832149],\"type\":\"data\",\"visible\":true},\"name\":\"cudf\",\"x\":[\"cpu\",\"gpu\"],\"y\":[0.007214057043085027,0.02414319133826],\"type\":\"bar\"},{\"error_y\":{\"array\":[0.0006846725310627188,0.003777592705013807],\"type\":\"data\",\"visible\":true},\"name\":\"polars\",\"x\":[\"cpu\",\"gpu\"],\"y\":[0.0755198676852922,0.02573876749430177],\"type\":\"bar\"},{\"error_y\":{\"array\":[0.013287205004860551,0.01296757712358291],\"type\":\"data\",\"visible\":true},\"name\":\"pandas\",\"x\":[\"cpu\",\"gpu\"],\"y\":[1.0,1.0],\"type\":\"bar\"}],                        {\"template\":{\"data\":{\"scatter\":[{\"type\":\"scatter\"}]}},\"title\":{\"text\":\"Average energy consumption for drop_duplicates on 1E+06 rows\"},\"yaxis\":{\"title\":{\"text\":\"Consumption relative to pandas\"}}},                        {\"responsive\": true}                    ).then(function(){\n",
       "                            \n",
       "var gd = document.getElementById('6b3d5fbc-c9f2-4abc-915d-1cd9caa08ec7');\n",
       "var x = new MutationObserver(function (mutations, observer) {{\n",
       "        var display = window.getComputedStyle(gd).display;\n",
       "        if (!display || display === 'none') {{\n",
       "            console.log([gd, 'removed!']);\n",
       "            Plotly.purge(gd);\n",
       "            observer.disconnect();\n",
       "        }}\n",
       "}});\n",
       "\n",
       "// Listen for the removal of the full notebook cells\n",
       "var notebookContainer = gd.closest('#notebook-container');\n",
       "if (notebookContainer) {{\n",
       "    x.observe(notebookContainer, {childList: true});\n",
       "}}\n",
       "\n",
       "// Listen for the clearing of the current output cell\n",
       "var outputEl = gd.closest('.output');\n",
       "if (outputEl) {{\n",
       "    x.observe(outputEl, {childList: true});\n",
       "}}\n",
       "\n",
       "                        })                };                });            </script>        </div>"
      ]
     },
     "metadata": {},
     "output_type": "display_data"
    },
    {
     "name": "stderr",
     "output_type": "stream",
     "text": [
      "/tmp/ipykernel_2176/1941926297.py:6: SettingWithCopyWarning:\n",
      "\n",
      "\n",
      "A value is trying to be set on a copy of a slice from a DataFrame\n",
      "\n",
      "See the caveats in the documentation: https://pandas.pydata.org/pandas-docs/stable/user_guide/indexing.html#returning-a-view-versus-a-copy\n",
      "\n",
      "/tmp/ipykernel_2176/1941926297.py:14: SettingWithCopyWarning:\n",
      "\n",
      "\n",
      "A value is trying to be set on a copy of a slice from a DataFrame\n",
      "\n",
      "See the caveats in the documentation: https://pandas.pydata.org/pandas-docs/stable/user_guide/indexing.html#returning-a-view-versus-a-copy\n",
      "\n",
      "/tmp/ipykernel_2176/1941926297.py:22: SettingWithCopyWarning:\n",
      "\n",
      "\n",
      "A value is trying to be set on a copy of a slice from a DataFrame\n",
      "\n",
      "See the caveats in the documentation: https://pandas.pydata.org/pandas-docs/stable/user_guide/indexing.html#returning-a-view-versus-a-copy\n",
      "\n",
      "/tmp/ipykernel_2176/1941926297.py:60: RuntimeWarning:\n",
      "\n",
      "invalid value encountered in scalar divide\n",
      "\n",
      "/tmp/ipykernel_2176/1941926297.py:61: RuntimeWarning:\n",
      "\n",
      "invalid value encountered in scalar divide\n",
      "\n",
      "/tmp/ipykernel_2176/1941926297.py:62: RuntimeWarning:\n",
      "\n",
      "invalid value encountered in scalar divide\n",
      "\n",
      "/tmp/ipykernel_2176/1941926297.py:63: RuntimeWarning:\n",
      "\n",
      "invalid value encountered in scalar divide\n",
      "\n",
      "/tmp/ipykernel_2176/1941926297.py:64: RuntimeWarning:\n",
      "\n",
      "invalid value encountered in scalar divide\n",
      "\n",
      "/tmp/ipykernel_2176/1941926297.py:65: RuntimeWarning:\n",
      "\n",
      "invalid value encountered in scalar divide\n",
      "\n"
     ]
    },
    {
     "data": {
      "application/vnd.plotly.v1+json": {
       "config": {
        "plotlyServerURL": "https://plot.ly"
       },
       "data": [
        {
         "error_y": {
          "array": [
           1.0928595468835398,
           null
          ],
          "type": "data",
          "visible": true
         },
         "name": "cudf",
         "type": "bar",
         "x": [
          "cpu",
          "gpu"
         ],
         "y": [
          1.8377296394537777,
          null
         ]
        },
        {
         "error_y": {
          "array": [
           0.4583553251679083,
           null
          ],
          "type": "data",
          "visible": true
         },
         "name": "polars",
         "type": "bar",
         "x": [
          "cpu",
          "gpu"
         ],
         "y": [
          1.2975949258276847,
          null
         ]
        },
        {
         "error_y": {
          "array": [
           0.048247405034922426,
           null
          ],
          "type": "data",
          "visible": true
         },
         "name": "pandas",
         "type": "bar",
         "x": [
          "cpu",
          "gpu"
         ],
         "y": [
          1,
          null
         ]
        }
       ],
       "layout": {
        "template": {
         "data": {
          "scatter": [
           {
            "type": "scatter"
           }
          ]
         }
        },
        "title": {
         "text": "Average energy consumption for groupby on 1E+06 rows"
        },
        "yaxis": {
         "title": {
          "text": "Consumption relative to pandas"
         }
        }
       }
      },
      "text/html": [
       "<div>                            <div id=\"63f68949-860c-46f6-8997-8cc20229b675\" class=\"plotly-graph-div\" style=\"height:525px; width:100%;\"></div>            <script type=\"text/javascript\">                require([\"plotly\"], function(Plotly) {                    window.PLOTLYENV=window.PLOTLYENV || {};                                    if (document.getElementById(\"63f68949-860c-46f6-8997-8cc20229b675\")) {                    Plotly.newPlot(                        \"63f68949-860c-46f6-8997-8cc20229b675\",                        [{\"error_y\":{\"array\":[1.0928595468835398,null],\"type\":\"data\",\"visible\":true},\"name\":\"cudf\",\"x\":[\"cpu\",\"gpu\"],\"y\":[1.8377296394537777,null],\"type\":\"bar\"},{\"error_y\":{\"array\":[0.4583553251679083,null],\"type\":\"data\",\"visible\":true},\"name\":\"polars\",\"x\":[\"cpu\",\"gpu\"],\"y\":[1.2975949258276847,null],\"type\":\"bar\"},{\"error_y\":{\"array\":[0.048247405034922426,null],\"type\":\"data\",\"visible\":true},\"name\":\"pandas\",\"x\":[\"cpu\",\"gpu\"],\"y\":[1.0,null],\"type\":\"bar\"}],                        {\"template\":{\"data\":{\"scatter\":[{\"type\":\"scatter\"}]}},\"title\":{\"text\":\"Average energy consumption for groupby on 1E+06 rows\"},\"yaxis\":{\"title\":{\"text\":\"Consumption relative to pandas\"}}},                        {\"responsive\": true}                    ).then(function(){\n",
       "                            \n",
       "var gd = document.getElementById('63f68949-860c-46f6-8997-8cc20229b675');\n",
       "var x = new MutationObserver(function (mutations, observer) {{\n",
       "        var display = window.getComputedStyle(gd).display;\n",
       "        if (!display || display === 'none') {{\n",
       "            console.log([gd, 'removed!']);\n",
       "            Plotly.purge(gd);\n",
       "            observer.disconnect();\n",
       "        }}\n",
       "}});\n",
       "\n",
       "// Listen for the removal of the full notebook cells\n",
       "var notebookContainer = gd.closest('#notebook-container');\n",
       "if (notebookContainer) {{\n",
       "    x.observe(notebookContainer, {childList: true});\n",
       "}}\n",
       "\n",
       "// Listen for the clearing of the current output cell\n",
       "var outputEl = gd.closest('.output');\n",
       "if (outputEl) {{\n",
       "    x.observe(outputEl, {childList: true});\n",
       "}}\n",
       "\n",
       "                        })                };                });            </script>        </div>"
      ]
     },
     "metadata": {},
     "output_type": "display_data"
    },
    {
     "name": "stderr",
     "output_type": "stream",
     "text": [
      "/tmp/ipykernel_2176/1941926297.py:6: SettingWithCopyWarning:\n",
      "\n",
      "\n",
      "A value is trying to be set on a copy of a slice from a DataFrame\n",
      "\n",
      "See the caveats in the documentation: https://pandas.pydata.org/pandas-docs/stable/user_guide/indexing.html#returning-a-view-versus-a-copy\n",
      "\n",
      "/tmp/ipykernel_2176/1941926297.py:14: SettingWithCopyWarning:\n",
      "\n",
      "\n",
      "A value is trying to be set on a copy of a slice from a DataFrame\n",
      "\n",
      "See the caveats in the documentation: https://pandas.pydata.org/pandas-docs/stable/user_guide/indexing.html#returning-a-view-versus-a-copy\n",
      "\n",
      "/tmp/ipykernel_2176/1941926297.py:22: SettingWithCopyWarning:\n",
      "\n",
      "\n",
      "A value is trying to be set on a copy of a slice from a DataFrame\n",
      "\n",
      "See the caveats in the documentation: https://pandas.pydata.org/pandas-docs/stable/user_guide/indexing.html#returning-a-view-versus-a-copy\n",
      "\n"
     ]
    },
    {
     "data": {
      "application/vnd.plotly.v1+json": {
       "config": {
        "plotlyServerURL": "https://plot.ly"
       },
       "data": [
        {
         "error_y": {
          "array": [
           0.0005752828536657653,
           0.05813827662726736
          ],
          "type": "data",
          "visible": true
         },
         "name": "cudf",
         "type": "bar",
         "x": [
          "cpu",
          "gpu"
         ],
         "y": [
          0.01946037416283972,
          0.06528473590965582
         ]
        },
        {
         "error_y": {
          "array": [
           0.0024130415753377313,
           0.011093701989147418
          ],
          "type": "data",
          "visible": true
         },
         "name": "polars",
         "type": "bar",
         "x": [
          "cpu",
          "gpu"
         ],
         "y": [
          0.17125572500338657,
          0.05660139413503216
         ]
        },
        {
         "error_y": {
          "array": [
           0.003998002704637354,
           0.013380093396561172
          ],
          "type": "data",
          "visible": true
         },
         "name": "pandas",
         "type": "bar",
         "x": [
          "cpu",
          "gpu"
         ],
         "y": [
          1,
          1
         ]
        }
       ],
       "layout": {
        "template": {
         "data": {
          "scatter": [
           {
            "type": "scatter"
           }
          ]
         }
        },
        "title": {
         "text": "Average energy consumption for sort on 1E+06 rows"
        },
        "yaxis": {
         "title": {
          "text": "Consumption relative to pandas"
         }
        }
       }
      },
      "text/html": [
       "<div>                            <div id=\"18d2f5ee-6698-4ff3-bbd6-e10e7bfbe50d\" class=\"plotly-graph-div\" style=\"height:525px; width:100%;\"></div>            <script type=\"text/javascript\">                require([\"plotly\"], function(Plotly) {                    window.PLOTLYENV=window.PLOTLYENV || {};                                    if (document.getElementById(\"18d2f5ee-6698-4ff3-bbd6-e10e7bfbe50d\")) {                    Plotly.newPlot(                        \"18d2f5ee-6698-4ff3-bbd6-e10e7bfbe50d\",                        [{\"error_y\":{\"array\":[0.0005752828536657653,0.05813827662726736],\"type\":\"data\",\"visible\":true},\"name\":\"cudf\",\"x\":[\"cpu\",\"gpu\"],\"y\":[0.01946037416283972,0.06528473590965582],\"type\":\"bar\"},{\"error_y\":{\"array\":[0.0024130415753377313,0.011093701989147418],\"type\":\"data\",\"visible\":true},\"name\":\"polars\",\"x\":[\"cpu\",\"gpu\"],\"y\":[0.17125572500338657,0.05660139413503216],\"type\":\"bar\"},{\"error_y\":{\"array\":[0.003998002704637354,0.013380093396561172],\"type\":\"data\",\"visible\":true},\"name\":\"pandas\",\"x\":[\"cpu\",\"gpu\"],\"y\":[1.0,1.0],\"type\":\"bar\"}],                        {\"template\":{\"data\":{\"scatter\":[{\"type\":\"scatter\"}]}},\"title\":{\"text\":\"Average energy consumption for sort on 1E+06 rows\"},\"yaxis\":{\"title\":{\"text\":\"Consumption relative to pandas\"}}},                        {\"responsive\": true}                    ).then(function(){\n",
       "                            \n",
       "var gd = document.getElementById('18d2f5ee-6698-4ff3-bbd6-e10e7bfbe50d');\n",
       "var x = new MutationObserver(function (mutations, observer) {{\n",
       "        var display = window.getComputedStyle(gd).display;\n",
       "        if (!display || display === 'none') {{\n",
       "            console.log([gd, 'removed!']);\n",
       "            Plotly.purge(gd);\n",
       "            observer.disconnect();\n",
       "        }}\n",
       "}});\n",
       "\n",
       "// Listen for the removal of the full notebook cells\n",
       "var notebookContainer = gd.closest('#notebook-container');\n",
       "if (notebookContainer) {{\n",
       "    x.observe(notebookContainer, {childList: true});\n",
       "}}\n",
       "\n",
       "// Listen for the clearing of the current output cell\n",
       "var outputEl = gd.closest('.output');\n",
       "if (outputEl) {{\n",
       "    x.observe(outputEl, {childList: true});\n",
       "}}\n",
       "\n",
       "                        })                };                });            </script>        </div>"
      ]
     },
     "metadata": {},
     "output_type": "display_data"
    },
    {
     "name": "stderr",
     "output_type": "stream",
     "text": [
      "/tmp/ipykernel_2176/1941926297.py:6: SettingWithCopyWarning:\n",
      "\n",
      "\n",
      "A value is trying to be set on a copy of a slice from a DataFrame\n",
      "\n",
      "See the caveats in the documentation: https://pandas.pydata.org/pandas-docs/stable/user_guide/indexing.html#returning-a-view-versus-a-copy\n",
      "\n",
      "/tmp/ipykernel_2176/1941926297.py:14: SettingWithCopyWarning:\n",
      "\n",
      "\n",
      "A value is trying to be set on a copy of a slice from a DataFrame\n",
      "\n",
      "See the caveats in the documentation: https://pandas.pydata.org/pandas-docs/stable/user_guide/indexing.html#returning-a-view-versus-a-copy\n",
      "\n",
      "/tmp/ipykernel_2176/1941926297.py:22: SettingWithCopyWarning:\n",
      "\n",
      "\n",
      "A value is trying to be set on a copy of a slice from a DataFrame\n",
      "\n",
      "See the caveats in the documentation: https://pandas.pydata.org/pandas-docs/stable/user_guide/indexing.html#returning-a-view-versus-a-copy\n",
      "\n"
     ]
    },
    {
     "data": {
      "application/vnd.plotly.v1+json": {
       "config": {
        "plotlyServerURL": "https://plot.ly"
       },
       "data": [
        {
         "error_y": {
          "array": [
           0.00013162273815880938,
           0.006327963424828594
          ],
          "type": "data",
          "visible": true
         },
         "name": "cudf",
         "type": "bar",
         "x": [
          "cpu",
          "gpu"
         ],
         "y": [
          0.004635149611627854,
          0.03716696158114914
         ]
        },
        {
         "error_y": {
          "array": [
           0.0005589034552196904,
           0.0003250184656483316
          ],
          "type": "data",
          "visible": true
         },
         "name": "polars",
         "type": "bar",
         "x": [
          "cpu",
          "gpu"
         ],
         "y": [
          0.07974017101723294,
          0.033293771270576505
         ]
        },
        {
         "error_y": {
          "array": [
           0.017521579793792364,
           0.006489278814839244
          ],
          "type": "data",
          "visible": true
         },
         "name": "pandas",
         "type": "bar",
         "x": [
          "cpu",
          "gpu"
         ],
         "y": [
          1,
          1
         ]
        }
       ],
       "layout": {
        "template": {
         "data": {
          "scatter": [
           {
            "type": "scatter"
           }
          ]
         }
        },
        "title": {
         "text": "Average energy consumption for drop_duplicates on 1E+07 rows"
        },
        "yaxis": {
         "title": {
          "text": "Consumption relative to pandas"
         }
        }
       }
      },
      "text/html": [
       "<div>                            <div id=\"a67b163e-1e6d-47fd-86b0-1535751b3324\" class=\"plotly-graph-div\" style=\"height:525px; width:100%;\"></div>            <script type=\"text/javascript\">                require([\"plotly\"], function(Plotly) {                    window.PLOTLYENV=window.PLOTLYENV || {};                                    if (document.getElementById(\"a67b163e-1e6d-47fd-86b0-1535751b3324\")) {                    Plotly.newPlot(                        \"a67b163e-1e6d-47fd-86b0-1535751b3324\",                        [{\"error_y\":{\"array\":[0.00013162273815880938,0.006327963424828594],\"type\":\"data\",\"visible\":true},\"name\":\"cudf\",\"x\":[\"cpu\",\"gpu\"],\"y\":[0.004635149611627854,0.03716696158114914],\"type\":\"bar\"},{\"error_y\":{\"array\":[0.0005589034552196904,0.0003250184656483316],\"type\":\"data\",\"visible\":true},\"name\":\"polars\",\"x\":[\"cpu\",\"gpu\"],\"y\":[0.07974017101723294,0.033293771270576505],\"type\":\"bar\"},{\"error_y\":{\"array\":[0.017521579793792364,0.006489278814839244],\"type\":\"data\",\"visible\":true},\"name\":\"pandas\",\"x\":[\"cpu\",\"gpu\"],\"y\":[1.0,1.0],\"type\":\"bar\"}],                        {\"template\":{\"data\":{\"scatter\":[{\"type\":\"scatter\"}]}},\"title\":{\"text\":\"Average energy consumption for drop_duplicates on 1E+07 rows\"},\"yaxis\":{\"title\":{\"text\":\"Consumption relative to pandas\"}}},                        {\"responsive\": true}                    ).then(function(){\n",
       "                            \n",
       "var gd = document.getElementById('a67b163e-1e6d-47fd-86b0-1535751b3324');\n",
       "var x = new MutationObserver(function (mutations, observer) {{\n",
       "        var display = window.getComputedStyle(gd).display;\n",
       "        if (!display || display === 'none') {{\n",
       "            console.log([gd, 'removed!']);\n",
       "            Plotly.purge(gd);\n",
       "            observer.disconnect();\n",
       "        }}\n",
       "}});\n",
       "\n",
       "// Listen for the removal of the full notebook cells\n",
       "var notebookContainer = gd.closest('#notebook-container');\n",
       "if (notebookContainer) {{\n",
       "    x.observe(notebookContainer, {childList: true});\n",
       "}}\n",
       "\n",
       "// Listen for the clearing of the current output cell\n",
       "var outputEl = gd.closest('.output');\n",
       "if (outputEl) {{\n",
       "    x.observe(outputEl, {childList: true});\n",
       "}}\n",
       "\n",
       "                        })                };                });            </script>        </div>"
      ]
     },
     "metadata": {},
     "output_type": "display_data"
    },
    {
     "name": "stderr",
     "output_type": "stream",
     "text": [
      "/tmp/ipykernel_2176/1941926297.py:6: SettingWithCopyWarning:\n",
      "\n",
      "\n",
      "A value is trying to be set on a copy of a slice from a DataFrame\n",
      "\n",
      "See the caveats in the documentation: https://pandas.pydata.org/pandas-docs/stable/user_guide/indexing.html#returning-a-view-versus-a-copy\n",
      "\n",
      "/tmp/ipykernel_2176/1941926297.py:14: SettingWithCopyWarning:\n",
      "\n",
      "\n",
      "A value is trying to be set on a copy of a slice from a DataFrame\n",
      "\n",
      "See the caveats in the documentation: https://pandas.pydata.org/pandas-docs/stable/user_guide/indexing.html#returning-a-view-versus-a-copy\n",
      "\n",
      "/tmp/ipykernel_2176/1941926297.py:22: SettingWithCopyWarning:\n",
      "\n",
      "\n",
      "A value is trying to be set on a copy of a slice from a DataFrame\n",
      "\n",
      "See the caveats in the documentation: https://pandas.pydata.org/pandas-docs/stable/user_guide/indexing.html#returning-a-view-versus-a-copy\n",
      "\n",
      "/tmp/ipykernel_2176/1941926297.py:60: RuntimeWarning:\n",
      "\n",
      "invalid value encountered in scalar divide\n",
      "\n",
      "/tmp/ipykernel_2176/1941926297.py:61: RuntimeWarning:\n",
      "\n",
      "invalid value encountered in scalar divide\n",
      "\n",
      "/tmp/ipykernel_2176/1941926297.py:62: RuntimeWarning:\n",
      "\n",
      "invalid value encountered in scalar divide\n",
      "\n",
      "/tmp/ipykernel_2176/1941926297.py:63: RuntimeWarning:\n",
      "\n",
      "invalid value encountered in scalar divide\n",
      "\n",
      "/tmp/ipykernel_2176/1941926297.py:64: RuntimeWarning:\n",
      "\n",
      "invalid value encountered in scalar divide\n",
      "\n",
      "/tmp/ipykernel_2176/1941926297.py:65: RuntimeWarning:\n",
      "\n",
      "invalid value encountered in scalar divide\n",
      "\n"
     ]
    },
    {
     "data": {
      "application/vnd.plotly.v1+json": {
       "config": {
        "plotlyServerURL": "https://plot.ly"
       },
       "data": [
        {
         "error_y": {
          "array": [
           0.3820795660021512,
           null
          ],
          "type": "data",
          "visible": true
         },
         "name": "cudf",
         "type": "bar",
         "x": [
          "cpu",
          "gpu"
         ],
         "y": [
          1.0550773068345884,
          null
         ]
        },
        {
         "error_y": {
          "array": [
           0.32817102489417194,
           null
          ],
          "type": "data",
          "visible": true
         },
         "name": "polars",
         "type": "bar",
         "x": [
          "cpu",
          "gpu"
         ],
         "y": [
          1.1966088023371677,
          null
         ]
        },
        {
         "error_y": {
          "array": [
           0.3565405790349121,
           null
          ],
          "type": "data",
          "visible": true
         },
         "name": "pandas",
         "type": "bar",
         "x": [
          "cpu",
          "gpu"
         ],
         "y": [
          1,
          null
         ]
        }
       ],
       "layout": {
        "template": {
         "data": {
          "scatter": [
           {
            "type": "scatter"
           }
          ]
         }
        },
        "title": {
         "text": "Average energy consumption for groupby on 1E+07 rows"
        },
        "yaxis": {
         "title": {
          "text": "Consumption relative to pandas"
         }
        }
       }
      },
      "text/html": [
       "<div>                            <div id=\"3ab34250-e5fe-414e-9234-797943c5756d\" class=\"plotly-graph-div\" style=\"height:525px; width:100%;\"></div>            <script type=\"text/javascript\">                require([\"plotly\"], function(Plotly) {                    window.PLOTLYENV=window.PLOTLYENV || {};                                    if (document.getElementById(\"3ab34250-e5fe-414e-9234-797943c5756d\")) {                    Plotly.newPlot(                        \"3ab34250-e5fe-414e-9234-797943c5756d\",                        [{\"error_y\":{\"array\":[0.3820795660021512,null],\"type\":\"data\",\"visible\":true},\"name\":\"cudf\",\"x\":[\"cpu\",\"gpu\"],\"y\":[1.0550773068345884,null],\"type\":\"bar\"},{\"error_y\":{\"array\":[0.32817102489417194,null],\"type\":\"data\",\"visible\":true},\"name\":\"polars\",\"x\":[\"cpu\",\"gpu\"],\"y\":[1.1966088023371677,null],\"type\":\"bar\"},{\"error_y\":{\"array\":[0.3565405790349121,null],\"type\":\"data\",\"visible\":true},\"name\":\"pandas\",\"x\":[\"cpu\",\"gpu\"],\"y\":[1.0,null],\"type\":\"bar\"}],                        {\"template\":{\"data\":{\"scatter\":[{\"type\":\"scatter\"}]}},\"title\":{\"text\":\"Average energy consumption for groupby on 1E+07 rows\"},\"yaxis\":{\"title\":{\"text\":\"Consumption relative to pandas\"}}},                        {\"responsive\": true}                    ).then(function(){\n",
       "                            \n",
       "var gd = document.getElementById('3ab34250-e5fe-414e-9234-797943c5756d');\n",
       "var x = new MutationObserver(function (mutations, observer) {{\n",
       "        var display = window.getComputedStyle(gd).display;\n",
       "        if (!display || display === 'none') {{\n",
       "            console.log([gd, 'removed!']);\n",
       "            Plotly.purge(gd);\n",
       "            observer.disconnect();\n",
       "        }}\n",
       "}});\n",
       "\n",
       "// Listen for the removal of the full notebook cells\n",
       "var notebookContainer = gd.closest('#notebook-container');\n",
       "if (notebookContainer) {{\n",
       "    x.observe(notebookContainer, {childList: true});\n",
       "}}\n",
       "\n",
       "// Listen for the clearing of the current output cell\n",
       "var outputEl = gd.closest('.output');\n",
       "if (outputEl) {{\n",
       "    x.observe(outputEl, {childList: true});\n",
       "}}\n",
       "\n",
       "                        })                };                });            </script>        </div>"
      ]
     },
     "metadata": {},
     "output_type": "display_data"
    },
    {
     "name": "stderr",
     "output_type": "stream",
     "text": [
      "/tmp/ipykernel_2176/1941926297.py:6: SettingWithCopyWarning:\n",
      "\n",
      "\n",
      "A value is trying to be set on a copy of a slice from a DataFrame\n",
      "\n",
      "See the caveats in the documentation: https://pandas.pydata.org/pandas-docs/stable/user_guide/indexing.html#returning-a-view-versus-a-copy\n",
      "\n",
      "/tmp/ipykernel_2176/1941926297.py:14: SettingWithCopyWarning:\n",
      "\n",
      "\n",
      "A value is trying to be set on a copy of a slice from a DataFrame\n",
      "\n",
      "See the caveats in the documentation: https://pandas.pydata.org/pandas-docs/stable/user_guide/indexing.html#returning-a-view-versus-a-copy\n",
      "\n",
      "/tmp/ipykernel_2176/1941926297.py:22: SettingWithCopyWarning:\n",
      "\n",
      "\n",
      "A value is trying to be set on a copy of a slice from a DataFrame\n",
      "\n",
      "See the caveats in the documentation: https://pandas.pydata.org/pandas-docs/stable/user_guide/indexing.html#returning-a-view-versus-a-copy\n",
      "\n"
     ]
    },
    {
     "data": {
      "application/vnd.plotly.v1+json": {
       "config": {
        "plotlyServerURL": "https://plot.ly"
       },
       "data": [
        {
         "error_y": {
          "array": [
           0.0001433222171185397,
           0.006166302805564393
          ],
          "type": "data",
          "visible": true
         },
         "name": "cudf",
         "type": "bar",
         "x": [
          "cpu",
          "gpu"
         ],
         "y": [
          0.010515912141264648,
          0.0939789908939589
         ]
        },
        {
         "error_y": {
          "array": [
           0.0005951046242502944,
           0.0006734662559162396
          ],
          "type": "data",
          "visible": true
         },
         "name": "polars",
         "type": "bar",
         "x": [
          "cpu",
          "gpu"
         ],
         "y": [
          0.10206815961500676,
          0.046589976732622704
         ]
        },
        {
         "error_y": {
          "array": [
           0.006136513777912961,
           0.005591692435519241
          ],
          "type": "data",
          "visible": true
         },
         "name": "pandas",
         "type": "bar",
         "x": [
          "cpu",
          "gpu"
         ],
         "y": [
          1,
          1
         ]
        }
       ],
       "layout": {
        "template": {
         "data": {
          "scatter": [
           {
            "type": "scatter"
           }
          ]
         }
        },
        "title": {
         "text": "Average energy consumption for sort on 1E+07 rows"
        },
        "yaxis": {
         "title": {
          "text": "Consumption relative to pandas"
         }
        }
       }
      },
      "text/html": [
       "<div>                            <div id=\"10941feb-0a42-4faa-bd3c-c00200706f31\" class=\"plotly-graph-div\" style=\"height:525px; width:100%;\"></div>            <script type=\"text/javascript\">                require([\"plotly\"], function(Plotly) {                    window.PLOTLYENV=window.PLOTLYENV || {};                                    if (document.getElementById(\"10941feb-0a42-4faa-bd3c-c00200706f31\")) {                    Plotly.newPlot(                        \"10941feb-0a42-4faa-bd3c-c00200706f31\",                        [{\"error_y\":{\"array\":[0.0001433222171185397,0.006166302805564393],\"type\":\"data\",\"visible\":true},\"name\":\"cudf\",\"x\":[\"cpu\",\"gpu\"],\"y\":[0.010515912141264648,0.0939789908939589],\"type\":\"bar\"},{\"error_y\":{\"array\":[0.0005951046242502944,0.0006734662559162396],\"type\":\"data\",\"visible\":true},\"name\":\"polars\",\"x\":[\"cpu\",\"gpu\"],\"y\":[0.10206815961500676,0.046589976732622704],\"type\":\"bar\"},{\"error_y\":{\"array\":[0.006136513777912961,0.005591692435519241],\"type\":\"data\",\"visible\":true},\"name\":\"pandas\",\"x\":[\"cpu\",\"gpu\"],\"y\":[1.0,1.0],\"type\":\"bar\"}],                        {\"template\":{\"data\":{\"scatter\":[{\"type\":\"scatter\"}]}},\"title\":{\"text\":\"Average energy consumption for sort on 1E+07 rows\"},\"yaxis\":{\"title\":{\"text\":\"Consumption relative to pandas\"}}},                        {\"responsive\": true}                    ).then(function(){\n",
       "                            \n",
       "var gd = document.getElementById('10941feb-0a42-4faa-bd3c-c00200706f31');\n",
       "var x = new MutationObserver(function (mutations, observer) {{\n",
       "        var display = window.getComputedStyle(gd).display;\n",
       "        if (!display || display === 'none') {{\n",
       "            console.log([gd, 'removed!']);\n",
       "            Plotly.purge(gd);\n",
       "            observer.disconnect();\n",
       "        }}\n",
       "}});\n",
       "\n",
       "// Listen for the removal of the full notebook cells\n",
       "var notebookContainer = gd.closest('#notebook-container');\n",
       "if (notebookContainer) {{\n",
       "    x.observe(notebookContainer, {childList: true});\n",
       "}}\n",
       "\n",
       "// Listen for the clearing of the current output cell\n",
       "var outputEl = gd.closest('.output');\n",
       "if (outputEl) {{\n",
       "    x.observe(outputEl, {childList: true});\n",
       "}}\n",
       "\n",
       "                        })                };                });            </script>        </div>"
      ]
     },
     "metadata": {},
     "output_type": "display_data"
    }
   ],
   "source": [
    "for sample_size in sample_sizes:\n",
    "    for test in tests:\n",
    "        fig = go.Figure()\n",
    "        # test=\"sort\" # \"groupby\"\n",
    "        cudf_tdf = cudf_df[cudf_df[\"n\"] == sample_size]\n",
    "        cudf_tdf.drop(\n",
    "            columns=[\n",
    "                c for c in cudf_tdf.columns if \"sec\" in c or not test in c or c == \"n\"\n",
    "            ],\n",
    "            inplace=True,\n",
    "        )\n",
    "        cudf_tdf = cudf_tdf.map(lambda x: x if x >= 0 else x + 65532610987)\n",
    "        polars_tdf = polars_df[polars_df[\"n\"] == sample_size]\n",
    "        polars_tdf.drop(\n",
    "            columns=[\n",
    "                c for c in polars_tdf.columns if \"sec\" in c or not test in c or c == \"n\"\n",
    "            ],\n",
    "            inplace=True,\n",
    "        )\n",
    "        polars_tdf = polars_tdf.map(lambda x: x if x >= 0 else x + 65532610987)\n",
    "        pandas_tdf = pandas_df[pandas_df[\"n\"] == sample_size]\n",
    "        pandas_tdf.drop(\n",
    "            columns=[\n",
    "                c for c in pandas_tdf.columns if \"sec\" in c or not test in c or c == \"n\"\n",
    "            ],\n",
    "            inplace=True,\n",
    "        )\n",
    "        pandas_tdf = pandas_tdf.map(lambda x: x if x >= 0 else x + 65532610987)\n",
    "        y_cudf = [\n",
    "            cudf_tdf.loc[:, [pu in c for c in cudf_tdf.columns]].mean().sum()\n",
    "            * convertion_factor\n",
    "            for pu in [\"cpu\", \"gpu\"]\n",
    "        ]\n",
    "        y_polars = [\n",
    "            polars_tdf.loc[:, [pu in c for c in polars_tdf.columns]].mean().sum()\n",
    "            * convertion_factor\n",
    "            for pu in [\"cpu\", \"gpu\"]\n",
    "        ]\n",
    "        y_pandas = [\n",
    "            pandas_tdf.loc[:, [pu in c for c in pandas_tdf.columns]].mean().sum()\n",
    "            * convertion_factor\n",
    "            for pu in [\"cpu\", \"gpu\"]\n",
    "        ]\n",
    "        std_cudf = [\n",
    "            cudf_tdf.loc[:, [pu in c for c in cudf_tdf.columns]].sum(axis=1).std()\n",
    "            * convertion_factor\n",
    "            for pu in [\"cpu\", \"gpu\"]\n",
    "        ]\n",
    "        std_pandas = [\n",
    "            pandas_tdf.loc[:, [pu in c for c in cudf_tdf.columns]].sum(axis=1).std()\n",
    "            * convertion_factor\n",
    "            for pu in [\"cpu\", \"gpu\"]\n",
    "        ]\n",
    "        std_polars = [\n",
    "            polars_tdf.loc[:, [pu in c for c in cudf_tdf.columns]].sum(axis=1).std()\n",
    "            * convertion_factor\n",
    "            for pu in [\"cpu\", \"gpu\"]\n",
    "        ]\n",
    "        for idx, val in enumerate(y_pandas):\n",
    "            y_cudf[idx] = y_cudf[idx] / val\n",
    "            y_polars[idx] = y_polars[idx] / val\n",
    "            y_pandas[idx] = y_pandas[idx] / val\n",
    "            std_cudf[idx] = std_cudf[idx] / val\n",
    "            std_pandas[idx] = std_pandas[idx] / val\n",
    "            std_polars[idx] = std_polars[idx] / val\n",
    "        fig.add_trace(\n",
    "            go.Bar(\n",
    "                x=[\"cpu\", \"gpu\"],\n",
    "                y=y_cudf,\n",
    "                error_y=dict(\n",
    "                    type=\"data\",  # value of error bar given in data coordinates\n",
    "                    array=std_cudf,\n",
    "                    visible=True,\n",
    "                ),\n",
    "                name=\"cudf\",\n",
    "            )\n",
    "        )\n",
    "        fig.add_trace(\n",
    "            go.Bar(\n",
    "                x=[\"cpu\", \"gpu\"],\n",
    "                y=y_polars,\n",
    "                error_y=dict(\n",
    "                    type=\"data\",  # value of error bar given in data coordinates\n",
    "                    array=std_polars,\n",
    "                    visible=True,\n",
    "                ),\n",
    "                name=\"polars\",\n",
    "            )\n",
    "        )\n",
    "        fig.add_trace(\n",
    "            go.Bar(\n",
    "                x=[\"cpu\", \"gpu\"],\n",
    "                y=y_pandas,\n",
    "                error_y=dict(\n",
    "                    type=\"data\",  # value of error bar given in data coordinates\n",
    "                    array=std_pandas,\n",
    "                    visible=True,\n",
    "                ),\n",
    "                name=\"pandas\",\n",
    "            )\n",
    "        )\n",
    "        fig.update_layout(\n",
    "            template=\"none\",\n",
    "            title=f\"Average energy consumption for {test} on {'{:.0E}'.format(sample_size)} rows\",\n",
    "        )\n",
    "        fig.update_yaxes(\n",
    "            title=\"Consumption relative to pandas\"\n",
    "        )  # ,type=\"log\") # type=\"log\"\n",
    "        fig.show()\n",
    "        fig.write_image(\n",
    "            f\"./../figs/relative_energy_consumption_{test}_{sample_size}.svg\"\n",
    "        )"
   ]
  },
  {
   "cell_type": "code",
   "execution_count": 41,
   "metadata": {},
   "outputs": [
    {
     "data": {
      "application/vnd.plotly.v1+json": {
       "config": {
        "plotlyServerURL": "https://plot.ly"
       },
       "data": [
        {
         "error_y": {
          "array": [
           0.00014555408364921765,
           0.000006159431889407768,
           0.00009505169786855326
          ],
          "type": "data",
          "visible": true
         },
         "type": "bar",
         "x": [
          "1e+05",
          "1e+06",
          "1e+07"
         ],
         "y": [
          0.00016628638888884233,
          0.0004999391666665267,
          0.0034307898611101507
         ]
        }
       ],
       "layout": {
        "template": {
         "data": {
          "scatter": [
           {
            "type": "scatter"
           }
          ]
         }
        },
        "title": {
         "text": "Average energy consumption for drop_duplicates using cudf"
        },
        "xaxis": {
         "type": "category"
        },
        "yaxis": {
         "title": {
          "text": "Consumption in Watt"
         }
        }
       }
      },
      "text/html": [
       "<div>                            <div id=\"16220f3c-b02f-49d3-990a-73f72042b32f\" class=\"plotly-graph-div\" style=\"height:525px; width:100%;\"></div>            <script type=\"text/javascript\">                require([\"plotly\"], function(Plotly) {                    window.PLOTLYENV=window.PLOTLYENV || {};                                    if (document.getElementById(\"16220f3c-b02f-49d3-990a-73f72042b32f\")) {                    Plotly.newPlot(                        \"16220f3c-b02f-49d3-990a-73f72042b32f\",                        [{\"error_y\":{\"array\":[0.00014555408364921765,6.159431889407768e-06,9.505169786855326e-05],\"type\":\"data\",\"visible\":true},\"x\":[\"1e+05\",\"1e+06\",\"1e+07\"],\"y\":[0.00016628638888884233,0.0004999391666665267,0.0034307898611101507],\"type\":\"bar\"}],                        {\"template\":{\"data\":{\"scatter\":[{\"type\":\"scatter\"}]}},\"title\":{\"text\":\"Average energy consumption for drop_duplicates using cudf\"},\"yaxis\":{\"title\":{\"text\":\"Consumption in Watt\"}},\"xaxis\":{\"type\":\"category\"}},                        {\"responsive\": true}                    ).then(function(){\n",
       "                            \n",
       "var gd = document.getElementById('16220f3c-b02f-49d3-990a-73f72042b32f');\n",
       "var x = new MutationObserver(function (mutations, observer) {{\n",
       "        var display = window.getComputedStyle(gd).display;\n",
       "        if (!display || display === 'none') {{\n",
       "            console.log([gd, 'removed!']);\n",
       "            Plotly.purge(gd);\n",
       "            observer.disconnect();\n",
       "        }}\n",
       "}});\n",
       "\n",
       "// Listen for the removal of the full notebook cells\n",
       "var notebookContainer = gd.closest('#notebook-container');\n",
       "if (notebookContainer) {{\n",
       "    x.observe(notebookContainer, {childList: true});\n",
       "}}\n",
       "\n",
       "// Listen for the clearing of the current output cell\n",
       "var outputEl = gd.closest('.output');\n",
       "if (outputEl) {{\n",
       "    x.observe(outputEl, {childList: true});\n",
       "}}\n",
       "\n",
       "                        })                };                });            </script>        </div>"
      ]
     },
     "metadata": {},
     "output_type": "display_data"
    },
    {
     "data": {
      "application/vnd.plotly.v1+json": {
       "config": {
        "plotlyServerURL": "https://plot.ly"
       },
       "data": [
        {
         "error_y": {
          "array": [
           0.00008386837236891128,
           0.000009888193180199499,
           0.0000031315453495953097
          ],
          "type": "data",
          "visible": true
         },
         "type": "bar",
         "x": [
          "1e+05",
          "1e+06",
          "1e+07"
         ],
         "y": [
          0.00004162519444443279,
          0.00001662777777777312,
          0.0000086474722222198
         ]
        }
       ],
       "layout": {
        "template": {
         "data": {
          "scatter": [
           {
            "type": "scatter"
           }
          ]
         }
        },
        "title": {
         "text": "Average energy consumption for groupby using cudf"
        },
        "xaxis": {
         "type": "category"
        },
        "yaxis": {
         "title": {
          "text": "Consumption in Watt"
         }
        }
       }
      },
      "text/html": [
       "<div>                            <div id=\"0b7fd2e0-5b4d-403c-aee0-c188c4a1eaa5\" class=\"plotly-graph-div\" style=\"height:525px; width:100%;\"></div>            <script type=\"text/javascript\">                require([\"plotly\"], function(Plotly) {                    window.PLOTLYENV=window.PLOTLYENV || {};                                    if (document.getElementById(\"0b7fd2e0-5b4d-403c-aee0-c188c4a1eaa5\")) {                    Plotly.newPlot(                        \"0b7fd2e0-5b4d-403c-aee0-c188c4a1eaa5\",                        [{\"error_y\":{\"array\":[8.386837236891128e-05,9.888193180199499e-06,3.1315453495953097e-06],\"type\":\"data\",\"visible\":true},\"x\":[\"1e+05\",\"1e+06\",\"1e+07\"],\"y\":[4.162519444443279e-05,1.662777777777312e-05,8.6474722222198e-06],\"type\":\"bar\"}],                        {\"template\":{\"data\":{\"scatter\":[{\"type\":\"scatter\"}]}},\"title\":{\"text\":\"Average energy consumption for groupby using cudf\"},\"yaxis\":{\"title\":{\"text\":\"Consumption in Watt\"}},\"xaxis\":{\"type\":\"category\"}},                        {\"responsive\": true}                    ).then(function(){\n",
       "                            \n",
       "var gd = document.getElementById('0b7fd2e0-5b4d-403c-aee0-c188c4a1eaa5');\n",
       "var x = new MutationObserver(function (mutations, observer) {{\n",
       "        var display = window.getComputedStyle(gd).display;\n",
       "        if (!display || display === 'none') {{\n",
       "            console.log([gd, 'removed!']);\n",
       "            Plotly.purge(gd);\n",
       "            observer.disconnect();\n",
       "        }}\n",
       "}});\n",
       "\n",
       "// Listen for the removal of the full notebook cells\n",
       "var notebookContainer = gd.closest('#notebook-container');\n",
       "if (notebookContainer) {{\n",
       "    x.observe(notebookContainer, {childList: true});\n",
       "}}\n",
       "\n",
       "// Listen for the clearing of the current output cell\n",
       "var outputEl = gd.closest('.output');\n",
       "if (outputEl) {{\n",
       "    x.observe(outputEl, {childList: true});\n",
       "}}\n",
       "\n",
       "                        })                };                });            </script>        </div>"
      ]
     },
     "metadata": {},
     "output_type": "display_data"
    },
    {
     "data": {
      "application/vnd.plotly.v1+json": {
       "config": {
        "plotlyServerURL": "https://plot.ly"
       },
       "data": [
        {
         "error_y": {
          "array": [
           0.0002575974385402885,
           0.00001387828716186611,
           0.00005931975577846009
          ],
          "type": "data",
          "visible": true
         },
         "type": "bar",
         "x": [
          "1e+05",
          "1e+06",
          "1e+07"
         ],
         "y": [
          0.0001705800555555078,
          0.00047135927777764585,
          0.0044048075833321
         ]
        }
       ],
       "layout": {
        "template": {
         "data": {
          "scatter": [
           {
            "type": "scatter"
           }
          ]
         }
        },
        "title": {
         "text": "Average energy consumption for sort using cudf"
        },
        "xaxis": {
         "type": "category"
        },
        "yaxis": {
         "title": {
          "text": "Consumption in Watt"
         }
        }
       }
      },
      "text/html": [
       "<div>                            <div id=\"8dff1da5-30ab-4365-90d8-f4d16e248b53\" class=\"plotly-graph-div\" style=\"height:525px; width:100%;\"></div>            <script type=\"text/javascript\">                require([\"plotly\"], function(Plotly) {                    window.PLOTLYENV=window.PLOTLYENV || {};                                    if (document.getElementById(\"8dff1da5-30ab-4365-90d8-f4d16e248b53\")) {                    Plotly.newPlot(                        \"8dff1da5-30ab-4365-90d8-f4d16e248b53\",                        [{\"error_y\":{\"array\":[0.0002575974385402885,1.387828716186611e-05,5.931975577846009e-05],\"type\":\"data\",\"visible\":true},\"x\":[\"1e+05\",\"1e+06\",\"1e+07\"],\"y\":[0.0001705800555555078,0.00047135927777764585,0.0044048075833321],\"type\":\"bar\"}],                        {\"template\":{\"data\":{\"scatter\":[{\"type\":\"scatter\"}]}},\"title\":{\"text\":\"Average energy consumption for sort using cudf\"},\"yaxis\":{\"title\":{\"text\":\"Consumption in Watt\"}},\"xaxis\":{\"type\":\"category\"}},                        {\"responsive\": true}                    ).then(function(){\n",
       "                            \n",
       "var gd = document.getElementById('8dff1da5-30ab-4365-90d8-f4d16e248b53');\n",
       "var x = new MutationObserver(function (mutations, observer) {{\n",
       "        var display = window.getComputedStyle(gd).display;\n",
       "        if (!display || display === 'none') {{\n",
       "            console.log([gd, 'removed!']);\n",
       "            Plotly.purge(gd);\n",
       "            observer.disconnect();\n",
       "        }}\n",
       "}});\n",
       "\n",
       "// Listen for the removal of the full notebook cells\n",
       "var notebookContainer = gd.closest('#notebook-container');\n",
       "if (notebookContainer) {{\n",
       "    x.observe(notebookContainer, {childList: true});\n",
       "}}\n",
       "\n",
       "// Listen for the clearing of the current output cell\n",
       "var outputEl = gd.closest('.output');\n",
       "if (outputEl) {{\n",
       "    x.observe(outputEl, {childList: true});\n",
       "}}\n",
       "\n",
       "                        })                };                });            </script>        </div>"
      ]
     },
     "metadata": {},
     "output_type": "display_data"
    },
    {
     "data": {
      "application/vnd.plotly.v1+json": {
       "config": {
        "plotlyServerURL": "https://plot.ly"
       },
       "data": [
        {
         "error_y": {
          "array": [
           0.00019860887815800627,
           0.0009195585676491703,
           0.012910504560403895
          ],
          "type": "data",
          "visible": true
         },
         "type": "bar",
         "x": [
          "1e+05",
          "1e+06",
          "1e+07"
         ],
         "y": [
          0.005101625249998572,
          0.06920954958331396,
          0.7371190313609047
         ]
        }
       ],
       "layout": {
        "template": {
         "data": {
          "scatter": [
           {
            "type": "scatter"
           }
          ]
         }
        },
        "title": {
         "text": "Average energy consumption for drop_duplicates using pandas"
        },
        "xaxis": {
         "type": "category"
        },
        "yaxis": {
         "title": {
          "text": "Consumption in Watt"
         }
        }
       }
      },
      "text/html": [
       "<div>                            <div id=\"2798d5c9-d36d-406d-9367-4649906de294\" class=\"plotly-graph-div\" style=\"height:525px; width:100%;\"></div>            <script type=\"text/javascript\">                require([\"plotly\"], function(Plotly) {                    window.PLOTLYENV=window.PLOTLYENV || {};                                    if (document.getElementById(\"2798d5c9-d36d-406d-9367-4649906de294\")) {                    Plotly.newPlot(                        \"2798d5c9-d36d-406d-9367-4649906de294\",                        [{\"error_y\":{\"array\":[0.00019860887815800627,0.0009195585676491703,0.012910504560403895],\"type\":\"data\",\"visible\":true},\"x\":[\"1e+05\",\"1e+06\",\"1e+07\"],\"y\":[0.005101625249998572,0.06920954958331396,0.7371190313609047],\"type\":\"bar\"}],                        {\"template\":{\"data\":{\"scatter\":[{\"type\":\"scatter\"}]}},\"title\":{\"text\":\"Average energy consumption for drop_duplicates using pandas\"},\"yaxis\":{\"title\":{\"text\":\"Consumption in Watt\"}},\"xaxis\":{\"type\":\"category\"}},                        {\"responsive\": true}                    ).then(function(){\n",
       "                            \n",
       "var gd = document.getElementById('2798d5c9-d36d-406d-9367-4649906de294');\n",
       "var x = new MutationObserver(function (mutations, observer) {{\n",
       "        var display = window.getComputedStyle(gd).display;\n",
       "        if (!display || display === 'none') {{\n",
       "            console.log([gd, 'removed!']);\n",
       "            Plotly.purge(gd);\n",
       "            observer.disconnect();\n",
       "        }}\n",
       "}});\n",
       "\n",
       "// Listen for the removal of the full notebook cells\n",
       "var notebookContainer = gd.closest('#notebook-container');\n",
       "if (notebookContainer) {{\n",
       "    x.observe(notebookContainer, {childList: true});\n",
       "}}\n",
       "\n",
       "// Listen for the clearing of the current output cell\n",
       "var outputEl = gd.closest('.output');\n",
       "if (outputEl) {{\n",
       "    x.observe(outputEl, {childList: true});\n",
       "}}\n",
       "\n",
       "                        })                };                });            </script>        </div>"
      ]
     },
     "metadata": {},
     "output_type": "display_data"
    },
    {
     "data": {
      "application/vnd.plotly.v1+json": {
       "config": {
        "plotlyServerURL": "https://plot.ly"
       },
       "data": [
        {
         "error_y": {
          "array": [
           0.000003986966766681077,
           4.365425207558554e-7,
           0.000002922226393579268
          ],
          "type": "data",
          "visible": true
         },
         "type": "bar",
         "x": [
          "1e+05",
          "1e+06",
          "1e+07"
         ],
         "y": [
          0.0000075162777777756735,
          0.000009047999999997468,
          0.000008196055555553262
         ]
        }
       ],
       "layout": {
        "template": {
         "data": {
          "scatter": [
           {
            "type": "scatter"
           }
          ]
         }
        },
        "title": {
         "text": "Average energy consumption for groupby using pandas"
        },
        "xaxis": {
         "type": "category"
        },
        "yaxis": {
         "title": {
          "text": "Consumption in Watt"
         }
        }
       }
      },
      "text/html": [
       "<div>                            <div id=\"c2d50516-575d-4e12-8cd4-82ae617a16b1\" class=\"plotly-graph-div\" style=\"height:525px; width:100%;\"></div>            <script type=\"text/javascript\">                require([\"plotly\"], function(Plotly) {                    window.PLOTLYENV=window.PLOTLYENV || {};                                    if (document.getElementById(\"c2d50516-575d-4e12-8cd4-82ae617a16b1\")) {                    Plotly.newPlot(                        \"c2d50516-575d-4e12-8cd4-82ae617a16b1\",                        [{\"error_y\":{\"array\":[3.986966766681077e-06,4.365425207558554e-07,2.922226393579268e-06],\"type\":\"data\",\"visible\":true},\"x\":[\"1e+05\",\"1e+06\",\"1e+07\"],\"y\":[7.5162777777756735e-06,9.047999999997468e-06,8.196055555553262e-06],\"type\":\"bar\"}],                        {\"template\":{\"data\":{\"scatter\":[{\"type\":\"scatter\"}]}},\"title\":{\"text\":\"Average energy consumption for groupby using pandas\"},\"yaxis\":{\"title\":{\"text\":\"Consumption in Watt\"}},\"xaxis\":{\"type\":\"category\"}},                        {\"responsive\": true}                    ).then(function(){\n",
       "                            \n",
       "var gd = document.getElementById('c2d50516-575d-4e12-8cd4-82ae617a16b1');\n",
       "var x = new MutationObserver(function (mutations, observer) {{\n",
       "        var display = window.getComputedStyle(gd).display;\n",
       "        if (!display || display === 'none') {{\n",
       "            console.log([gd, 'removed!']);\n",
       "            Plotly.purge(gd);\n",
       "            observer.disconnect();\n",
       "        }}\n",
       "}});\n",
       "\n",
       "// Listen for the removal of the full notebook cells\n",
       "var notebookContainer = gd.closest('#notebook-container');\n",
       "if (notebookContainer) {{\n",
       "    x.observe(notebookContainer, {childList: true});\n",
       "}}\n",
       "\n",
       "// Listen for the clearing of the current output cell\n",
       "var outputEl = gd.closest('.output');\n",
       "if (outputEl) {{\n",
       "    x.observe(outputEl, {childList: true});\n",
       "}}\n",
       "\n",
       "                        })                };                });            </script>        </div>"
      ]
     },
     "metadata": {},
     "output_type": "display_data"
    },
    {
     "data": {
      "application/vnd.plotly.v1+json": {
       "config": {
        "plotlyServerURL": "https://plot.ly"
       },
       "data": [
        {
         "error_y": {
          "array": [
           0.00005356839801343152,
           0.00009657790979223978,
           0.0025579043787510745
          ],
          "type": "data",
          "visible": true
         },
         "type": "bar",
         "x": [
          "1e+05",
          "1e+06",
          "1e+07"
         ],
         "y": [
          0.0017547040555550644,
          0.024189333527771008,
          0.41690645958321665
         ]
        }
       ],
       "layout": {
        "template": {
         "data": {
          "scatter": [
           {
            "type": "scatter"
           }
          ]
         }
        },
        "title": {
         "text": "Average energy consumption for sort using pandas"
        },
        "xaxis": {
         "type": "category"
        },
        "yaxis": {
         "title": {
          "text": "Consumption in Watt"
         }
        }
       }
      },
      "text/html": [
       "<div>                            <div id=\"9a0167f0-bdfd-4a38-b06a-5a055b50af71\" class=\"plotly-graph-div\" style=\"height:525px; width:100%;\"></div>            <script type=\"text/javascript\">                require([\"plotly\"], function(Plotly) {                    window.PLOTLYENV=window.PLOTLYENV || {};                                    if (document.getElementById(\"9a0167f0-bdfd-4a38-b06a-5a055b50af71\")) {                    Plotly.newPlot(                        \"9a0167f0-bdfd-4a38-b06a-5a055b50af71\",                        [{\"error_y\":{\"array\":[5.356839801343152e-05,9.657790979223978e-05,0.0025579043787510745],\"type\":\"data\",\"visible\":true},\"x\":[\"1e+05\",\"1e+06\",\"1e+07\"],\"y\":[0.0017547040555550644,0.024189333527771008,0.41690645958321665],\"type\":\"bar\"}],                        {\"template\":{\"data\":{\"scatter\":[{\"type\":\"scatter\"}]}},\"title\":{\"text\":\"Average energy consumption for sort using pandas\"},\"yaxis\":{\"title\":{\"text\":\"Consumption in Watt\"}},\"xaxis\":{\"type\":\"category\"}},                        {\"responsive\": true}                    ).then(function(){\n",
       "                            \n",
       "var gd = document.getElementById('9a0167f0-bdfd-4a38-b06a-5a055b50af71');\n",
       "var x = new MutationObserver(function (mutations, observer) {{\n",
       "        var display = window.getComputedStyle(gd).display;\n",
       "        if (!display || display === 'none') {{\n",
       "            console.log([gd, 'removed!']);\n",
       "            Plotly.purge(gd);\n",
       "            observer.disconnect();\n",
       "        }}\n",
       "}});\n",
       "\n",
       "// Listen for the removal of the full notebook cells\n",
       "var notebookContainer = gd.closest('#notebook-container');\n",
       "if (notebookContainer) {{\n",
       "    x.observe(notebookContainer, {childList: true});\n",
       "}}\n",
       "\n",
       "// Listen for the clearing of the current output cell\n",
       "var outputEl = gd.closest('.output');\n",
       "if (outputEl) {{\n",
       "    x.observe(outputEl, {childList: true});\n",
       "}}\n",
       "\n",
       "                        })                };                });            </script>        </div>"
      ]
     },
     "metadata": {},
     "output_type": "display_data"
    },
    {
     "data": {
      "application/vnd.plotly.v1+json": {
       "config": {
        "plotlyServerURL": "https://plot.ly"
       },
       "data": [
        {
         "error_y": {
          "array": [
           0.00004431408156487088,
           0.00004733633610957633,
           0.00041175929446265157
          ],
          "type": "data",
          "visible": true
         },
         "type": "bar",
         "x": [
          "1e+05",
          "1e+06",
          "1e+07"
         ],
         "y": [
          0.0003902435833332241,
          0.005224762527776315,
          0.058757819805539103
         ]
        }
       ],
       "layout": {
        "template": {
         "data": {
          "scatter": [
           {
            "type": "scatter"
           }
          ]
         }
        },
        "title": {
         "text": "Average energy consumption for drop_duplicates using polars"
        },
        "xaxis": {
         "type": "category"
        },
        "yaxis": {
         "title": {
          "text": "Consumption in Watt"
         }
        }
       }
      },
      "text/html": [
       "<div>                            <div id=\"b3baf9cb-d645-4189-b16f-f45acb8edc16\" class=\"plotly-graph-div\" style=\"height:525px; width:100%;\"></div>            <script type=\"text/javascript\">                require([\"plotly\"], function(Plotly) {                    window.PLOTLYENV=window.PLOTLYENV || {};                                    if (document.getElementById(\"b3baf9cb-d645-4189-b16f-f45acb8edc16\")) {                    Plotly.newPlot(                        \"b3baf9cb-d645-4189-b16f-f45acb8edc16\",                        [{\"error_y\":{\"array\":[4.431408156487088e-05,4.733633610957633e-05,0.00041175929446265157],\"type\":\"data\",\"visible\":true},\"x\":[\"1e+05\",\"1e+06\",\"1e+07\"],\"y\":[0.0003902435833332241,0.005224762527776315,0.058757819805539103],\"type\":\"bar\"}],                        {\"template\":{\"data\":{\"scatter\":[{\"type\":\"scatter\"}]}},\"title\":{\"text\":\"Average energy consumption for drop_duplicates using polars\"},\"yaxis\":{\"title\":{\"text\":\"Consumption in Watt\"}},\"xaxis\":{\"type\":\"category\"}},                        {\"responsive\": true}                    ).then(function(){\n",
       "                            \n",
       "var gd = document.getElementById('b3baf9cb-d645-4189-b16f-f45acb8edc16');\n",
       "var x = new MutationObserver(function (mutations, observer) {{\n",
       "        var display = window.getComputedStyle(gd).display;\n",
       "        if (!display || display === 'none') {{\n",
       "            console.log([gd, 'removed!']);\n",
       "            Plotly.purge(gd);\n",
       "            observer.disconnect();\n",
       "        }}\n",
       "}});\n",
       "\n",
       "// Listen for the removal of the full notebook cells\n",
       "var notebookContainer = gd.closest('#notebook-container');\n",
       "if (notebookContainer) {{\n",
       "    x.observe(notebookContainer, {childList: true});\n",
       "}}\n",
       "\n",
       "// Listen for the clearing of the current output cell\n",
       "var outputEl = gd.closest('.output');\n",
       "if (outputEl) {{\n",
       "    x.observe(outputEl, {childList: true});\n",
       "}}\n",
       "\n",
       "                        })                };                });            </script>        </div>"
      ]
     },
     "metadata": {},
     "output_type": "display_data"
    },
    {
     "data": {
      "application/vnd.plotly.v1+json": {
       "config": {
        "plotlyServerURL": "https://plot.ly"
       },
       "data": [
        {
         "error_y": {
          "array": [
           0.0000038019001842680336,
           0.000004147198982118073,
           0.0000026897079517554856
          ],
          "type": "data",
          "visible": true
         },
         "type": "bar",
         "x": [
          "1e+05",
          "1e+06",
          "1e+07"
         ],
         "y": [
          0.0000107979722222192,
          0.000011740638888885602,
          0.000009807472222219477
         ]
        }
       ],
       "layout": {
        "template": {
         "data": {
          "scatter": [
           {
            "type": "scatter"
           }
          ]
         }
        },
        "title": {
         "text": "Average energy consumption for groupby using polars"
        },
        "xaxis": {
         "type": "category"
        },
        "yaxis": {
         "title": {
          "text": "Consumption in Watt"
         }
        }
       }
      },
      "text/html": [
       "<div>                            <div id=\"82d0f1b0-62e0-4539-b1bd-1d7742ec3748\" class=\"plotly-graph-div\" style=\"height:525px; width:100%;\"></div>            <script type=\"text/javascript\">                require([\"plotly\"], function(Plotly) {                    window.PLOTLYENV=window.PLOTLYENV || {};                                    if (document.getElementById(\"82d0f1b0-62e0-4539-b1bd-1d7742ec3748\")) {                    Plotly.newPlot(                        \"82d0f1b0-62e0-4539-b1bd-1d7742ec3748\",                        [{\"error_y\":{\"array\":[3.8019001842680336e-06,4.147198982118073e-06,2.6897079517554856e-06],\"type\":\"data\",\"visible\":true},\"x\":[\"1e+05\",\"1e+06\",\"1e+07\"],\"y\":[1.07979722222192e-05,1.1740638888885602e-05,9.807472222219477e-06],\"type\":\"bar\"}],                        {\"template\":{\"data\":{\"scatter\":[{\"type\":\"scatter\"}]}},\"title\":{\"text\":\"Average energy consumption for groupby using polars\"},\"yaxis\":{\"title\":{\"text\":\"Consumption in Watt\"}},\"xaxis\":{\"type\":\"category\"}},                        {\"responsive\": true}                    ).then(function(){\n",
       "                            \n",
       "var gd = document.getElementById('82d0f1b0-62e0-4539-b1bd-1d7742ec3748');\n",
       "var x = new MutationObserver(function (mutations, observer) {{\n",
       "        var display = window.getComputedStyle(gd).display;\n",
       "        if (!display || display === 'none') {{\n",
       "            console.log([gd, 'removed!']);\n",
       "            Plotly.purge(gd);\n",
       "            observer.disconnect();\n",
       "        }}\n",
       "}});\n",
       "\n",
       "// Listen for the removal of the full notebook cells\n",
       "var notebookContainer = gd.closest('#notebook-container');\n",
       "if (notebookContainer) {{\n",
       "    x.observe(notebookContainer, {childList: true});\n",
       "}}\n",
       "\n",
       "// Listen for the clearing of the current output cell\n",
       "var outputEl = gd.closest('.output');\n",
       "if (outputEl) {{\n",
       "    x.observe(outputEl, {childList: true});\n",
       "}}\n",
       "\n",
       "                        })                };                });            </script>        </div>"
      ]
     },
     "metadata": {},
     "output_type": "display_data"
    },
    {
     "data": {
      "application/vnd.plotly.v1+json": {
       "config": {
        "plotlyServerURL": "https://plot.ly"
       },
       "data": [
        {
         "error_y": {
          "array": [
           0.000031201692331252815,
           0.000058365183512867765,
           0.00024803448801061185
          ],
          "type": "data",
          "visible": true
         },
         "type": "bar",
         "x": [
          "1e+05",
          "1e+06",
          "1e+07"
         ],
         "y": [
          0.00023920049999993305,
          0.004140996083332174,
          0.042539145027765866
         ]
        }
       ],
       "layout": {
        "template": {
         "data": {
          "scatter": [
           {
            "type": "scatter"
           }
          ]
         }
        },
        "title": {
         "text": "Average energy consumption for sort using polars"
        },
        "xaxis": {
         "type": "category"
        },
        "yaxis": {
         "title": {
          "text": "Consumption in Watt"
         }
        }
       }
      },
      "text/html": [
       "<div>                            <div id=\"afbfa359-2d74-430a-a472-f9b74afd54bf\" class=\"plotly-graph-div\" style=\"height:525px; width:100%;\"></div>            <script type=\"text/javascript\">                require([\"plotly\"], function(Plotly) {                    window.PLOTLYENV=window.PLOTLYENV || {};                                    if (document.getElementById(\"afbfa359-2d74-430a-a472-f9b74afd54bf\")) {                    Plotly.newPlot(                        \"afbfa359-2d74-430a-a472-f9b74afd54bf\",                        [{\"error_y\":{\"array\":[3.1201692331252815e-05,5.8365183512867765e-05,0.00024803448801061185],\"type\":\"data\",\"visible\":true},\"x\":[\"1e+05\",\"1e+06\",\"1e+07\"],\"y\":[0.00023920049999993305,0.004140996083332174,0.042539145027765866],\"type\":\"bar\"}],                        {\"template\":{\"data\":{\"scatter\":[{\"type\":\"scatter\"}]}},\"title\":{\"text\":\"Average energy consumption for sort using polars\"},\"yaxis\":{\"title\":{\"text\":\"Consumption in Watt\"}},\"xaxis\":{\"type\":\"category\"}},                        {\"responsive\": true}                    ).then(function(){\n",
       "                            \n",
       "var gd = document.getElementById('afbfa359-2d74-430a-a472-f9b74afd54bf');\n",
       "var x = new MutationObserver(function (mutations, observer) {{\n",
       "        var display = window.getComputedStyle(gd).display;\n",
       "        if (!display || display === 'none') {{\n",
       "            console.log([gd, 'removed!']);\n",
       "            Plotly.purge(gd);\n",
       "            observer.disconnect();\n",
       "        }}\n",
       "}});\n",
       "\n",
       "// Listen for the removal of the full notebook cells\n",
       "var notebookContainer = gd.closest('#notebook-container');\n",
       "if (notebookContainer) {{\n",
       "    x.observe(notebookContainer, {childList: true});\n",
       "}}\n",
       "\n",
       "// Listen for the clearing of the current output cell\n",
       "var outputEl = gd.closest('.output');\n",
       "if (outputEl) {{\n",
       "    x.observe(outputEl, {childList: true});\n",
       "}}\n",
       "\n",
       "                        })                };                });            </script>        </div>"
      ]
     },
     "metadata": {},
     "output_type": "display_data"
    }
   ],
   "source": [
    "for df,name in [(cudf_df,\"cudf\"), (pandas_df,\"pandas\"), (polars_df,\"polars\")]:\n",
    "    for test in tests:\n",
    "        tdf = df.copy()\n",
    "        # tdf_std=df.groupby(by=\"n\").std()\n",
    "        tdf = tdf.map(\n",
    "            lambda x: (\n",
    "                x * convertion_factor\n",
    "                if x >= 0\n",
    "                else (x + 65532610987) * convertion_factor\n",
    "            )\n",
    "        )\n",
    "        n = tdf[\"n\"]/convertion_factor\n",
    "        tdf = tdf.drop(\n",
    "            columns=[\n",
    "                c for c in tdf.columns if (\"secs\" in c or \"load\" in c or not test in c)\n",
    "            ]\n",
    "        )\n",
    "        tdf_mean = tdf.sum(axis=1).groupby(by=n).mean().values\n",
    "        x = [\"{:.0e}\".format(idx) for idx in tdf.sum(axis=1).groupby(by=n).mean().index]\n",
    "        tdf_std = tdf.sum(axis=1).groupby(by=n).std().values\n",
    "        fig = go.Figure(go.Bar(x=x, y=tdf_mean,error_y=dict(\n",
    "                    type=\"data\",  # value of error bar given in data coordinates\n",
    "                    array=tdf_std,\n",
    "                    visible=True,\n",
    "                ),))\n",
    "        fig.update_layout(\n",
    "            template=\"none\",\n",
    "            title=f\"Average energy consumption for {test} using {name}\",\n",
    "        )\n",
    "        fig.update_yaxes(\n",
    "            title=\"Consumption in Watt\"\n",
    "        )  # ,type=\"log\") # type=\"log\"\n",
    "        fig.update_xaxes(type='category')\n",
    "        fig.show()\n",
    "        fig.write_image(\n",
    "            f\"./../figs/scaling_energy_consumption_{test}_{name}.svg\"\n",
    "        )\n",
    "        # tdf_std=tdf_std.drop(columns=[c for c in tdf_std.columns if \"secs\" in c or \"load\" in c or not test in c])\n",
    "        # y=tdf.sum(axis=1)\n",
    "        # y_error=tdf"
   ]
  },
  {
   "cell_type": "code",
   "execution_count": 40,
   "metadata": {},
   "outputs": [
    {
     "data": {
      "text/plain": [
       "0    0.000028\n",
       "1    0.000028\n",
       "2    0.000028\n",
       "3    0.000028\n",
       "4    0.000028\n",
       "5    0.000028\n",
       "6    0.000028\n",
       "7    0.000028\n",
       "8    0.000028\n",
       "9    0.000028\n",
       "0    0.000278\n",
       "1    0.000278\n",
       "2    0.000278\n",
       "3    0.000278\n",
       "4    0.000278\n",
       "5    0.000278\n",
       "6    0.000278\n",
       "7    0.000278\n",
       "8    0.000278\n",
       "9    0.000278\n",
       "0    0.002778\n",
       "1    0.002778\n",
       "2    0.002778\n",
       "3    0.002778\n",
       "4    0.002778\n",
       "5    0.002778\n",
       "6    0.002778\n",
       "7    0.002778\n",
       "8    0.002778\n",
       "9    0.002778\n",
       "Name: n, dtype: float64"
      ]
     },
     "execution_count": 40,
     "metadata": {},
     "output_type": "execute_result"
    }
   ],
   "source": [
    "tdf = df.copy()\n",
    "        # tdf_std=df.groupby(by=\"n\").std()\n",
    "tdf = tdf.map(\n",
    "    lambda x: (\n",
    "        x * convertion_factor\n",
    "        if x >= 0\n",
    "        else (x + 65532610987) * convertion_factor\n",
    "    )\n",
    ")\n",
    "n = tdf[\"n\"]\n",
    "n"
   ]
  },
  {
   "cell_type": "code",
   "execution_count": 33,
   "metadata": {},
   "outputs": [
    {
     "data": {
      "text/plain": [
       "[2.777777777777e-05, 0.0002777777777777, 0.0027777777777770003]"
      ]
     },
     "execution_count": 33,
     "metadata": {},
     "output_type": "execute_result"
    }
   ],
   "source": [
    "[idx for idx in tdf.sum(axis=1).groupby(by=n).mean().index]"
   ]
  },
  {
   "cell_type": "code",
   "execution_count": 37,
   "metadata": {},
   "outputs": [
    {
     "data": {
      "text/plain": [
       "0    0.000028\n",
       "1    0.000028\n",
       "2    0.000028\n",
       "3    0.000028\n",
       "4    0.000028\n",
       "5    0.000028\n",
       "6    0.000028\n",
       "7    0.000028\n",
       "8    0.000028\n",
       "9    0.000028\n",
       "0    0.000278\n",
       "1    0.000278\n",
       "2    0.000278\n",
       "3    0.000278\n",
       "4    0.000278\n",
       "5    0.000278\n",
       "6    0.000278\n",
       "7    0.000278\n",
       "8    0.000278\n",
       "9    0.000278\n",
       "0    0.002778\n",
       "1    0.002778\n",
       "2    0.002778\n",
       "3    0.002778\n",
       "4    0.002778\n",
       "5    0.002778\n",
       "6    0.002778\n",
       "7    0.002778\n",
       "8    0.002778\n",
       "9    0.002778\n",
       "Name: n, dtype: float64"
      ]
     },
     "execution_count": 37,
     "metadata": {},
     "output_type": "execute_result"
    }
   ],
   "source": [
    "n"
   ]
  }
 ],
 "metadata": {
  "kernelspec": {
   "display_name": ".venv",
   "language": "python",
   "name": "python3"
  },
  "language_info": {
   "codemirror_mode": {
    "name": "ipython",
    "version": 3
   },
   "file_extension": ".py",
   "mimetype": "text/x-python",
   "name": "python",
   "nbconvert_exporter": "python",
   "pygments_lexer": "ipython3",
   "version": "3.10.12"
  }
 },
 "nbformat": 4,
 "nbformat_minor": 2
}
